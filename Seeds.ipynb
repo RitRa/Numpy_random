{
 "cells": [
  {
   "cell_type": "code",
   "execution_count": 4,
   "metadata": {
    "collapsed": true
   },
   "outputs": [],
   "source": [
    "import numpy as np"
   ]
  },
  {
   "cell_type": "markdown",
   "metadata": {},
   "source": [
    "# Seeds"
   ]
  },
  {
   "cell_type": "markdown",
   "metadata": {},
   "source": [
    "### numpy.random.RandomState\n",
    "\n",
    "The data generation functions in numpy.random use a global random seed. To avoid\n",
    "global state, you can use numpy.random.RandomState to create a random number\n",
    "generator isolated from others\n",
    "\n",
    "numpy.random.RandomState is a container for the Mersenne Twister pseudo-random number generator.\n",
    "\n",
    "A pseudorandom number generator (PRNG), also known as a deterministic random bit generator (DRBG),[1] is an algorithm for generating a sequence of numbers whose properties approximate the properties of sequences of random numbers. "
   ]
  },
  {
   "cell_type": "code",
   "execution_count": 5,
   "metadata": {},
   "outputs": [
    {
     "data": {
      "text/plain": [
       "array([ 0.47143516, -1.19097569,  1.43270697, -0.3126519 , -0.72058873,\n",
       "        0.88716294,  0.85958841, -0.6365235 ,  0.01569637, -2.24268495])"
      ]
     },
     "execution_count": 5,
     "metadata": {},
     "output_type": "execute_result"
    }
   ],
   "source": [
    "rng = np.random.RandomState(1234)\n",
    "rng.randn(10)"
   ]
  },
  {
   "cell_type": "markdown",
   "metadata": {},
   "source": [
    "### numpy.random.seed\n",
    "\n",
    "This method is called when RandomState is initialized. "
   ]
  },
  {
   "cell_type": "markdown",
   "metadata": {},
   "source": [
    "If you set the np.random.seed(a_fixed_number) every time you call the numpy's other random function, the result will be the same:"
   ]
  },
  {
   "cell_type": "code",
   "execution_count": 6,
   "metadata": {},
   "outputs": [
    {
     "data": {
      "text/plain": [
       "array([0.5488135 , 0.71518937, 0.60276338, 0.54488318])"
      ]
     },
     "execution_count": 6,
     "metadata": {},
     "output_type": "execute_result"
    }
   ],
   "source": [
    "# np.random.seed(0) makes the random numbers predictable\n",
    "\n",
    "np.random.seed(0)\n",
    "np.random.rand(4)"
   ]
  },
  {
   "cell_type": "code",
   "execution_count": 7,
   "metadata": {},
   "outputs": [
    {
     "data": {
      "text/plain": [
       "array([0.5488135 , 0.71518937, 0.60276338, 0.54488318])"
      ]
     },
     "execution_count": 7,
     "metadata": {},
     "output_type": "execute_result"
    }
   ],
   "source": [
    "# np.random.seed(0) makes the random numbers predictable\n",
    "\n",
    "np.random.seed(0)\n",
    "np.random.rand(4)"
   ]
  },
  {
   "cell_type": "code",
   "execution_count": 12,
   "metadata": {},
   "outputs": [
    {
     "name": "stdout",
     "output_type": "stream",
     "text": [
      "Original list:  [10, 20, 30, 40, 50, 60]\n",
      "Reshuffled list  [50, 60, 40, 10, 20, 30]\n",
      "reshuffled list  [50, 60, 40, 10, 20, 30]\n"
     ]
    }
   ],
   "source": [
    "numbers = [10, 20, 30, 40, 50, 60]\n",
    "print (\"Original list: \", numbers )\n",
    "\n",
    "np.random.seed(4)\n",
    "np.random.shuffle(numbers)\n",
    "print(\"Reshuffled list \", numbers)\n",
    "\n",
    "numbers = [10, 20, 30, 40, 50, 60]\n",
    "np.random.seed(4)\n",
    "np.random.shuffle(numbers)\n",
    "print(\"reshuffled list \", numbers)"
   ]
  },
  {
   "cell_type": "markdown",
   "metadata": {},
   "source": [
    "Reference:\n",
    "\n",
    "https://en.wikipedia.org/wiki/Mersenne_Twister\n",
    "    \n",
    "https://en.wikipedia.org/wiki/Pseudorandom_number_generator\n",
    "\n",
    "https://pynative.com/python-random-seed/"
   ]
  },
  {
   "cell_type": "code",
   "execution_count": null,
   "metadata": {
    "collapsed": true
   },
   "outputs": [],
   "source": []
  }
 ],
 "metadata": {
  "kernelspec": {
   "display_name": "Python 3",
   "language": "python",
   "name": "python3"
  },
  "language_info": {
   "codemirror_mode": {
    "name": "ipython",
    "version": 3
   },
   "file_extension": ".py",
   "mimetype": "text/x-python",
   "name": "python",
   "nbconvert_exporter": "python",
   "pygments_lexer": "ipython3",
   "version": "3.6.3"
  }
 },
 "nbformat": 4,
 "nbformat_minor": 2
}

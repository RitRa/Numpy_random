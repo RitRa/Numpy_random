{
 "cells": [
  {
   "cell_type": "markdown",
   "metadata": {},
   "source": [
    "# The numpy.random package"
   ]
  },
  {
   "cell_type": "markdown",
   "metadata": {},
   "source": [
    "An investigation in the functions of the numpy.random package in Python."
   ]
  },
  {
   "cell_type": "markdown",
   "metadata": {},
   "source": [
    "### Overall purpose of the package"
   ]
  },
  {
   "cell_type": "markdown",
   "metadata": {},
   "source": [
    "The NumPy library is the core library for scientific computing in\n",
    "Python. It provides a high-performance multidimensional array\n",
    "object, and tools for working with these arrays.\n",
    "\n",
    "The numpy.random module supplements the built-in Python random with functions\n",
    "for efficiently generating whole arrays of sample values from many kinds of probability\n",
    "distributions."
   ]
  },
  {
   "cell_type": "code",
   "execution_count": 1,
   "metadata": {
    "collapsed": true
   },
   "outputs": [],
   "source": [
    "#import packages\n",
    "import numpy as np\n",
    "import pandas as pd\n",
    "import matplotlib.pyplot as plt\n",
    "import seaborn as sns"
   ]
  },
  {
   "cell_type": "markdown",
   "metadata": {},
   "source": [
    "# Simple Random Data\n",
    "Using np.random functions to generate simple data\n",
    "\n",
    "Some functions we will be investigating:"
   ]
  },
  {
   "cell_type": "code",
   "execution_count": 13,
   "metadata": {},
   "outputs": [
    {
     "data": {
      "text/html": [
       "<div>\n",
       "<style scoped>\n",
       "    .dataframe tbody tr th:only-of-type {\n",
       "        vertical-align: middle;\n",
       "    }\n",
       "\n",
       "    .dataframe tbody tr th {\n",
       "        vertical-align: top;\n",
       "    }\n",
       "\n",
       "    .dataframe thead th {\n",
       "        text-align: right;\n",
       "    }\n",
       "</style>\n",
       "<table border=\"1\" class=\"dataframe\">\n",
       "  <thead>\n",
       "    <tr style=\"text-align: right;\">\n",
       "      <th></th>\n",
       "      <th>Simple random data</th>\n",
       "      <th>Description</th>\n",
       "    </tr>\n",
       "  </thead>\n",
       "  <tbody>\n",
       "    <tr>\n",
       "      <th>0</th>\n",
       "      <td>Numpy.random.rand</td>\n",
       "      <td>Generates random values of given shape</td>\n",
       "    </tr>\n",
       "    <tr>\n",
       "      <th>1</th>\n",
       "      <td>Numpy.random.randint</td>\n",
       "      <td>Returns random integers from low (inclusive) t...</td>\n",
       "    </tr>\n",
       "    <tr>\n",
       "      <th>2</th>\n",
       "      <td>Numpy.random.choice</td>\n",
       "      <td>Generates a random sample from a given 1-D array</td>\n",
       "    </tr>\n",
       "  </tbody>\n",
       "</table>\n",
       "</div>"
      ],
      "text/plain": [
       "     Simple random data                                        Description\n",
       "0     Numpy.random.rand             Generates random values of given shape\n",
       "1  Numpy.random.randint  Returns random integers from low (inclusive) t...\n",
       "2  Numpy.random.choice    Generates a random sample from a given 1-D array"
      ]
     },
     "execution_count": 13,
     "metadata": {},
     "output_type": "execute_result"
    }
   ],
   "source": [
    "data = [['Numpy.random.rand', 'Generates random values of given shape'], \n",
    "        ['Numpy.random.randint' , 'Returns random integers from low (inclusive) to high (exclusive).'],\n",
    "       ['Numpy.random.choice ','Generates a random sample from a given 1-D array']]\n",
    "pd.DataFrame(data, columns=[\"Simple random data\", \"Description\"])\n"
   ]
  },
  {
   "cell_type": "markdown",
   "metadata": {},
   "source": [
    "<br>\n",
    "### Numpy.random.rand\n",
    "\n",
    "Returns random integers from low (inclusive) to high (exclusive).\n",
    "\n",
    "Generate random values of given shape"
   ]
  },
  {
   "cell_type": "code",
   "execution_count": 3,
   "metadata": {},
   "outputs": [
    {
     "data": {
      "text/plain": [
       "array([[0.30973579, 0.33231314, 0.84329692],\n",
       "       [0.60503297, 0.54966782, 0.6931101 ],\n",
       "       [0.28953347, 0.41458483, 0.22042045],\n",
       "       [0.2156976 , 0.72377117, 0.37750832],\n",
       "       [0.52857189, 0.43866562, 0.21263595]])"
      ]
     },
     "execution_count": 3,
     "metadata": {},
     "output_type": "execute_result"
    }
   ],
   "source": [
    "# Challenge 1. Create an array with 5 rows and 3 columns\n",
    "sample = np.random.rand(5, 3)\n",
    "sample"
   ]
  },
  {
   "cell_type": "code",
   "execution_count": 4,
   "metadata": {},
   "outputs": [
    {
     "data": {
      "text/html": [
       "<div>\n",
       "<style scoped>\n",
       "    .dataframe tbody tr th:only-of-type {\n",
       "        vertical-align: middle;\n",
       "    }\n",
       "\n",
       "    .dataframe tbody tr th {\n",
       "        vertical-align: top;\n",
       "    }\n",
       "\n",
       "    .dataframe thead th {\n",
       "        text-align: right;\n",
       "    }\n",
       "</style>\n",
       "<table border=\"1\" class=\"dataframe\">\n",
       "  <thead>\n",
       "    <tr style=\"text-align: right;\">\n",
       "      <th></th>\n",
       "      <th>col 1</th>\n",
       "      <th>col 2</th>\n",
       "      <th>col 3</th>\n",
       "      <th>col 4</th>\n",
       "      <th>col 5</th>\n",
       "      <th>col 6</th>\n",
       "      <th>col 7</th>\n",
       "      <th>col 8</th>\n",
       "      <th>col 9</th>\n",
       "      <th>col 10</th>\n",
       "    </tr>\n",
       "  </thead>\n",
       "  <tbody>\n",
       "    <tr>\n",
       "      <th>0</th>\n",
       "      <td>0.761600</td>\n",
       "      <td>0.616583</td>\n",
       "      <td>0.670612</td>\n",
       "      <td>0.176060</td>\n",
       "      <td>0.365737</td>\n",
       "      <td>0.347090</td>\n",
       "      <td>0.790834</td>\n",
       "      <td>0.151348</td>\n",
       "      <td>0.661597</td>\n",
       "      <td>0.244703</td>\n",
       "    </tr>\n",
       "    <tr>\n",
       "      <th>1</th>\n",
       "      <td>0.862622</td>\n",
       "      <td>0.712351</td>\n",
       "      <td>0.792401</td>\n",
       "      <td>0.520708</td>\n",
       "      <td>0.453257</td>\n",
       "      <td>0.510564</td>\n",
       "      <td>0.056026</td>\n",
       "      <td>0.775594</td>\n",
       "      <td>0.682183</td>\n",
       "      <td>0.775727</td>\n",
       "    </tr>\n",
       "    <tr>\n",
       "      <th>2</th>\n",
       "      <td>0.742649</td>\n",
       "      <td>0.131587</td>\n",
       "      <td>0.912708</td>\n",
       "      <td>0.950643</td>\n",
       "      <td>0.883448</td>\n",
       "      <td>0.540506</td>\n",
       "      <td>0.075854</td>\n",
       "      <td>0.276350</td>\n",
       "      <td>0.952888</td>\n",
       "      <td>0.455767</td>\n",
       "    </tr>\n",
       "    <tr>\n",
       "      <th>3</th>\n",
       "      <td>0.462939</td>\n",
       "      <td>0.476858</td>\n",
       "      <td>0.689255</td>\n",
       "      <td>0.330268</td>\n",
       "      <td>0.966389</td>\n",
       "      <td>0.649353</td>\n",
       "      <td>0.259117</td>\n",
       "      <td>0.252311</td>\n",
       "      <td>0.688144</td>\n",
       "      <td>0.108885</td>\n",
       "    </tr>\n",
       "    <tr>\n",
       "      <th>4</th>\n",
       "      <td>0.389829</td>\n",
       "      <td>0.925537</td>\n",
       "      <td>0.592910</td>\n",
       "      <td>0.771288</td>\n",
       "      <td>0.750533</td>\n",
       "      <td>0.789758</td>\n",
       "      <td>0.018421</td>\n",
       "      <td>0.695613</td>\n",
       "      <td>0.216387</td>\n",
       "      <td>0.688036</td>\n",
       "    </tr>\n",
       "  </tbody>\n",
       "</table>\n",
       "</div>"
      ],
      "text/plain": [
       "      col 1     col 2     col 3     col 4     col 5     col 6     col 7  \\\n",
       "0  0.761600  0.616583  0.670612  0.176060  0.365737  0.347090  0.790834   \n",
       "1  0.862622  0.712351  0.792401  0.520708  0.453257  0.510564  0.056026   \n",
       "2  0.742649  0.131587  0.912708  0.950643  0.883448  0.540506  0.075854   \n",
       "3  0.462939  0.476858  0.689255  0.330268  0.966389  0.649353  0.259117   \n",
       "4  0.389829  0.925537  0.592910  0.771288  0.750533  0.789758  0.018421   \n",
       "\n",
       "      col 8     col 9    col 10  \n",
       "0  0.151348  0.661597  0.244703  \n",
       "1  0.775594  0.682183  0.775727  \n",
       "2  0.276350  0.952888  0.455767  \n",
       "3  0.252311  0.688144  0.108885  \n",
       "4  0.695613  0.216387  0.688036  "
      ]
     },
     "execution_count": 4,
     "metadata": {},
     "output_type": "execute_result"
    }
   ],
   "source": [
    "# 5 rows of 10 items\n",
    "dataset = np.random.rand(5,10)\n",
    "\n",
    "#adding the random dataset to a table\n",
    "pd.DataFrame(dataset, columns=[\"col 1\", \"col 2\", \"col 3\",\"col 4\", \"col 5\", \"col 6\", \"col 7\", \"col 8\", \"col 9\", \"col 10\" ])"
   ]
  },
  {
   "cell_type": "code",
   "execution_count": 5,
   "metadata": {},
   "outputs": [
    {
     "data": {
      "text/plain": [
       "array([0.37912396, 0.52958678, 0.40272653, 0.54131335, 0.5674673 ,\n",
       "       0.87947618, 0.79057271, 0.49648874, 0.59146399, 0.47318213])"
      ]
     },
     "execution_count": 5,
     "metadata": {},
     "output_type": "execute_result"
    }
   ],
   "source": [
    "# Example of a basic array of 10 items\n",
    "x = np.random.rand(10)\n",
    "x"
   ]
  },
  {
   "cell_type": "code",
   "execution_count": 6,
   "metadata": {},
   "outputs": [
    {
     "data": {
      "image/png": "[encoded data removed]",
      "text/plain": [
       "<matplotlib.figure.Figure at 0x10b3e9d30>"
      ]
     },
     "metadata": {},
     "output_type": "display_data"
    }
   ],
   "source": [
    "plt.hist(x)\n",
    "plt.show()"
   ]
  },
  {
   "cell_type": "markdown",
   "metadata": {},
   "source": [
    "<br>\n",
    "### Numpy.random.randint\n",
    "\n",
    "Returns random integers from low (inclusive) to high (exclusive).\n",
    "\n",
    "Challenge 2. Generate 20 numbers between 1 and 5 "
   ]
  },
  {
   "cell_type": "code",
   "execution_count": 7,
   "metadata": {},
   "outputs": [
    {
     "data": {
      "text/plain": [
       "array([3, 4, 2, 4, 2, 1, 3, 1, 1, 2, 2, 3, 1, 1, 2, 2, 1, 1, 1, 3])"
      ]
     },
     "execution_count": 7,
     "metadata": {},
     "output_type": "execute_result"
    }
   ],
   "source": [
    "# Generate 20 numbers between 1 and 5 \n",
    "np.random.randint(1, 5, 20)"
   ]
  },
  {
   "cell_type": "code",
   "execution_count": 8,
   "metadata": {},
   "outputs": [
    {
     "data": {
      "text/plain": [
       "array([0, 2, 3, 0, 3, 3, 1, 3, 1, 3])"
      ]
     },
     "execution_count": 8,
     "metadata": {},
     "output_type": "execute_result"
    }
   ],
   "source": [
    "# can also do it with just the high number \n",
    "np.random.randint(5, size=10)"
   ]
  },
  {
   "cell_type": "markdown",
   "metadata": {
    "collapsed": true
   },
   "source": [
    "<br>\n",
    "### Numpy.random.choice\n",
    "\n",
    "\n",
    "Generates a random sample from a given 1-D array\n"
   ]
  },
  {
   "cell_type": "code",
   "execution_count": 11,
   "metadata": {},
   "outputs": [
    {
     "data": {
      "text/plain": [
       "array([9, 9, 7, 4, 5])"
      ]
     },
     "execution_count": 11,
     "metadata": {},
     "output_type": "execute_result"
    }
   ],
   "source": [
    "# Generate a uniform random sample from np.arange(10) of size 5\n",
    "# np.arange(10) = array([0, 1, 2, 3, 4, 5, 6, 7, 8, 9])\n",
    "\n",
    "np.random.choice(10, 5)"
   ]
  },
  {
   "cell_type": "markdown",
   "metadata": {},
   "source": [
    "<br>\n",
    "<br>\n",
    "\n",
    "# Permutations"
   ]
  },
  {
   "cell_type": "markdown",
   "metadata": {},
   "source": [
    "### Numpy.random.shuffle\n",
    "\n",
    "Shuffles numbers in an array"
   ]
  },
  {
   "cell_type": "code",
   "execution_count": 12,
   "metadata": {},
   "outputs": [
    {
     "data": {
      "text/plain": [
       "array([11,  7,  4,  8, 14, 10,  0,  6, 12,  1,  9,  5,  2, 13,  3])"
      ]
     },
     "execution_count": 12,
     "metadata": {},
     "output_type": "execute_result"
    }
   ],
   "source": [
    "arr = np.arange(15)\n",
    "np.random.shuffle(arr)\n",
    "arr"
   ]
  },
  {
   "cell_type": "markdown",
   "metadata": {},
   "source": [
    "### Numpy.random.permutation\n",
    "\n",
    "Randomly permute a sequence, or return a permuted range."
   ]
  },
  {
   "cell_type": "code",
   "execution_count": 16,
   "metadata": {},
   "outputs": [
    {
     "data": {
      "text/plain": [
       "array([0, 1, 3, 7, 6, 2, 5, 4, 8])"
      ]
     },
     "execution_count": 16,
     "metadata": {},
     "output_type": "execute_result"
    }
   ],
   "source": [
    "# basic example  \n",
    "np.random.permutation(9)"
   ]
  },
  {
   "cell_type": "code",
   "execution_count": 19,
   "metadata": {},
   "outputs": [
    {
     "data": {
      "text/plain": [
       "array([ 1, 39, 78,  5,  2])"
      ]
     },
     "execution_count": 19,
     "metadata": {},
     "output_type": "execute_result"
    }
   ],
   "source": [
    "# example reshuffling an array \n",
    "np.random.permutation([1, 78, 39, 2, 5])"
   ]
  },
  {
   "cell_type": "code",
   "execution_count": 23,
   "metadata": {},
   "outputs": [
    {
     "data": {
      "text/plain": [
       "array([[0, 1, 2],\n",
       "       [3, 4, 5],\n",
       "       [6, 7, 8]])"
      ]
     },
     "execution_count": 23,
     "metadata": {},
     "output_type": "execute_result"
    }
   ],
   "source": [
    "# creating an multidimensional array\n",
    "arr = np.arange(9).reshape((3, 3))\n",
    "arr"
   ]
  },
  {
   "cell_type": "code",
   "execution_count": 24,
   "metadata": {},
   "outputs": [
    {
     "data": {
      "text/plain": [
       "array([[3, 4, 5],\n",
       "       [0, 1, 2],\n",
       "       [6, 7, 8]])"
      ]
     },
     "execution_count": 24,
     "metadata": {},
     "output_type": "execute_result"
    }
   ],
   "source": [
    "# example reshuffling a multidimensional array \n",
    "np.random.permutation(arr)"
   ]
  },
  {
   "cell_type": "markdown",
   "metadata": {},
   "source": [
    "# References\n",
    "Python for Data Analysis: Data Wrangling with Pandas, NumPy, and IPython - Book by Wes McKinney\n",
    "\n",
    "Python Random Number Generator: the Random Module || Python Tutorial\n",
    "https://www.youtube.com/watch?v=zWL3z7NMqAs\n",
    "\n",
    "https://docs.scipy.org/doc/numpy-1.15.1/reference/routines.random.html\n"
   ]
  }
 ],
 "metadata": {
  "kernelspec": {
   "display_name": "Python 3",
   "language": "python",
   "name": "python3"
  },
  "language_info": {
   "codemirror_mode": {
    "name": "ipython",
    "version": 3
   },
   "file_extension": ".py",
   "mimetype": "text/x-python",
   "name": "python",
   "nbconvert_exporter": "python",
   "pygments_lexer": "ipython3",
   "version": "3.6.3"
  }
 },
 "nbformat": 4,
 "nbformat_minor": 2
}

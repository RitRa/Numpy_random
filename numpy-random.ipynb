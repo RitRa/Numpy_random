{
 "cells": [
  {
   "cell_type": "markdown",
   "metadata": {},
   "source": [
    "# The numpy.random package"
   ]
  },
  {
   "cell_type": "markdown",
   "metadata": {},
   "source": [
    "An investigation in the functions of the numpy.random package in Python."
   ]
  },
  {
   "cell_type": "markdown",
   "metadata": {},
   "source": [
    "### Overall purpose of the package"
   ]
  },
  {
   "cell_type": "markdown",
   "metadata": {},
   "source": [
    "The NumPy library is the core library for scientific computing in\n",
    "Python. It provides a high-performance multidimensional array\n",
    "object, and tools for working with these arrays.\n",
    "\n",
    "The numpy.random module supplements the built-in Python random with functions\n",
    "for efficiently generating whole arrays of sample values from many kinds of probability\n",
    "distributions."
   ]
  },
  {
   "cell_type": "code",
   "execution_count": 57,
   "metadata": {
    "collapsed": true
   },
   "outputs": [],
   "source": [
    "#import packages\n",
    "import numpy as np\n",
    "import pandas as pd\n",
    "import matplotlib.pyplot as plt\n",
    "import seaborn as sns"
   ]
  },
  {
   "cell_type": "markdown",
   "metadata": {},
   "source": [
    "# Simple Random Data\n",
    "Using np.random functions to generate simple data\n",
    "\n",
    "Some functions we will be investigating:"
   ]
  },
  {
   "cell_type": "code",
   "execution_count": 47,
   "metadata": {},
   "outputs": [
    {
     "data": {
      "text/html": [
       "<div>\n",
       "<style scoped>\n",
       "    .dataframe tbody tr th:only-of-type {\n",
       "        vertical-align: middle;\n",
       "    }\n",
       "\n",
       "    .dataframe tbody tr th {\n",
       "        vertical-align: top;\n",
       "    }\n",
       "\n",
       "    .dataframe thead th {\n",
       "        text-align: right;\n",
       "    }\n",
       "</style>\n",
       "<table border=\"1\" class=\"dataframe\">\n",
       "  <thead>\n",
       "    <tr style=\"text-align: right;\">\n",
       "      <th></th>\n",
       "      <th>Simple random data</th>\n",
       "      <th>Description</th>\n",
       "    </tr>\n",
       "  </thead>\n",
       "  <tbody>\n",
       "    <tr>\n",
       "      <th>0</th>\n",
       "      <td>Numpy.random.rand</td>\n",
       "      <td>Generates random values of given shape</td>\n",
       "    </tr>\n",
       "    <tr>\n",
       "      <th>1</th>\n",
       "      <td>Numpy.random.randint</td>\n",
       "      <td>Returns random integers from low (inclusive) t...</td>\n",
       "    </tr>\n",
       "    <tr>\n",
       "      <th>2</th>\n",
       "      <td>Numpy.random.choice</td>\n",
       "      <td>Generates a random sample from a given 1-D array</td>\n",
       "    </tr>\n",
       "  </tbody>\n",
       "</table>\n",
       "</div>"
      ],
      "text/plain": [
       "     Simple random data                                        Description\n",
       "0     Numpy.random.rand             Generates random values of given shape\n",
       "1  Numpy.random.randint  Returns random integers from low (inclusive) t...\n",
       "2  Numpy.random.choice    Generates a random sample from a given 1-D array"
      ]
     },
     "execution_count": 47,
     "metadata": {},
     "output_type": "execute_result"
    }
   ],
   "source": [
    "data = [['Numpy.random.rand', 'Generates random values of given shape'], \n",
    "        ['Numpy.random.randint' , 'Returns random integers from low (inclusive) to high (exclusive).'],\n",
    "       ['Numpy.random.choice ','Generates a random sample from a given 1-D array']]\n",
    "pd.DataFrame(data, columns=[\"Simple random data\", \"Description\"])\n"
   ]
  },
  {
   "cell_type": "markdown",
   "metadata": {},
   "source": [
    "<br>\n",
    "### Numpy.random.rand\n",
    "\n",
    "Returns random integers from low (inclusive) to high (exclusive).\n",
    "\n",
    "Generate random values of given shape"
   ]
  },
  {
   "cell_type": "code",
   "execution_count": 48,
   "metadata": {},
   "outputs": [
    {
     "data": {
      "text/plain": [
       "array([[0.62954886, 0.03977471, 0.94586802],\n",
       "       [0.14882998, 0.12715661, 0.83599773],\n",
       "       [0.30150441, 0.85496337, 0.77153084],\n",
       "       [0.17247814, 0.16789588, 0.71163849],\n",
       "       [0.14290273, 0.40362603, 0.08933271]])"
      ]
     },
     "execution_count": 48,
     "metadata": {},
     "output_type": "execute_result"
    }
   ],
   "source": [
    "# Challenge 1. Create an array with 5 rows and 3 columns\n",
    "sample = np.random.rand(5, 3)\n",
    "sample"
   ]
  },
  {
   "cell_type": "code",
   "execution_count": 49,
   "metadata": {},
   "outputs": [
    {
     "data": {
      "text/html": [
       "<div>\n",
       "<style scoped>\n",
       "    .dataframe tbody tr th:only-of-type {\n",
       "        vertical-align: middle;\n",
       "    }\n",
       "\n",
       "    .dataframe tbody tr th {\n",
       "        vertical-align: top;\n",
       "    }\n",
       "\n",
       "    .dataframe thead th {\n",
       "        text-align: right;\n",
       "    }\n",
       "</style>\n",
       "<table border=\"1\" class=\"dataframe\">\n",
       "  <thead>\n",
       "    <tr style=\"text-align: right;\">\n",
       "      <th></th>\n",
       "      <th>col 1</th>\n",
       "      <th>col 2</th>\n",
       "      <th>col 3</th>\n",
       "      <th>col 4</th>\n",
       "      <th>col 5</th>\n",
       "      <th>col 6</th>\n",
       "      <th>col 7</th>\n",
       "      <th>col 8</th>\n",
       "      <th>col 9</th>\n",
       "      <th>col 10</th>\n",
       "    </tr>\n",
       "  </thead>\n",
       "  <tbody>\n",
       "    <tr>\n",
       "      <th>0</th>\n",
       "      <td>0.432428</td>\n",
       "      <td>0.032557</td>\n",
       "      <td>0.526790</td>\n",
       "      <td>0.408845</td>\n",
       "      <td>0.592948</td>\n",
       "      <td>0.055910</td>\n",
       "      <td>0.688674</td>\n",
       "      <td>0.842403</td>\n",
       "      <td>0.253075</td>\n",
       "      <td>0.295870</td>\n",
       "    </tr>\n",
       "    <tr>\n",
       "      <th>1</th>\n",
       "      <td>0.478122</td>\n",
       "      <td>0.744952</td>\n",
       "      <td>0.176690</td>\n",
       "      <td>0.485888</td>\n",
       "      <td>0.371051</td>\n",
       "      <td>0.532010</td>\n",
       "      <td>0.171905</td>\n",
       "      <td>0.028503</td>\n",
       "      <td>0.587055</td>\n",
       "      <td>0.612982</td>\n",
       "    </tr>\n",
       "    <tr>\n",
       "      <th>2</th>\n",
       "      <td>0.383062</td>\n",
       "      <td>0.312053</td>\n",
       "      <td>0.908152</td>\n",
       "      <td>0.535510</td>\n",
       "      <td>0.076427</td>\n",
       "      <td>0.716578</td>\n",
       "      <td>0.006284</td>\n",
       "      <td>0.580142</td>\n",
       "      <td>0.506311</td>\n",
       "      <td>0.196477</td>\n",
       "    </tr>\n",
       "    <tr>\n",
       "      <th>3</th>\n",
       "      <td>0.079458</td>\n",
       "      <td>0.102795</td>\n",
       "      <td>0.346885</td>\n",
       "      <td>0.393065</td>\n",
       "      <td>0.519685</td>\n",
       "      <td>0.800368</td>\n",
       "      <td>0.584509</td>\n",
       "      <td>0.708935</td>\n",
       "      <td>0.257360</td>\n",
       "      <td>0.137622</td>\n",
       "    </tr>\n",
       "    <tr>\n",
       "      <th>4</th>\n",
       "      <td>0.417500</td>\n",
       "      <td>0.945767</td>\n",
       "      <td>0.918338</td>\n",
       "      <td>0.645589</td>\n",
       "      <td>0.840126</td>\n",
       "      <td>0.271043</td>\n",
       "      <td>0.803253</td>\n",
       "      <td>0.326784</td>\n",
       "      <td>0.659892</td>\n",
       "      <td>0.526487</td>\n",
       "    </tr>\n",
       "  </tbody>\n",
       "</table>\n",
       "</div>"
      ],
      "text/plain": [
       "      col 1     col 2     col 3     col 4     col 5     col 6     col 7  \\\n",
       "0  0.432428  0.032557  0.526790  0.408845  0.592948  0.055910  0.688674   \n",
       "1  0.478122  0.744952  0.176690  0.485888  0.371051  0.532010  0.171905   \n",
       "2  0.383062  0.312053  0.908152  0.535510  0.076427  0.716578  0.006284   \n",
       "3  0.079458  0.102795  0.346885  0.393065  0.519685  0.800368  0.584509   \n",
       "4  0.417500  0.945767  0.918338  0.645589  0.840126  0.271043  0.803253   \n",
       "\n",
       "      col 8     col 9    col 10  \n",
       "0  0.842403  0.253075  0.295870  \n",
       "1  0.028503  0.587055  0.612982  \n",
       "2  0.580142  0.506311  0.196477  \n",
       "3  0.708935  0.257360  0.137622  \n",
       "4  0.326784  0.659892  0.526487  "
      ]
     },
     "execution_count": 49,
     "metadata": {},
     "output_type": "execute_result"
    }
   ],
   "source": [
    "# 5 rows of 10 items\n",
    "dataset = np.random.rand(5,10)\n",
    "\n",
    "#adding the random dataset to a table\n",
    "pd.DataFrame(dataset, columns=[\"col 1\", \"col 2\", \"col 3\",\"col 4\", \"col 5\", \"col 6\", \"col 7\", \"col 8\", \"col 9\", \"col 10\" ])"
   ]
  },
  {
   "cell_type": "code",
   "execution_count": 50,
   "metadata": {},
   "outputs": [
    {
     "data": {
      "text/plain": [
       "array([0.33740409, 0.04150775, 0.05587564, 0.96504186, 0.23508143,\n",
       "       0.92735864, 0.62094764, 0.02030666, 0.09241945, 0.06160153])"
      ]
     },
     "execution_count": 50,
     "metadata": {},
     "output_type": "execute_result"
    }
   ],
   "source": [
    "# Example of a basic array of 10 items\n",
    "x = np.random.rand(10)\n",
    "x"
   ]
  },
  {
   "cell_type": "code",
   "execution_count": 51,
   "metadata": {},
   "outputs": [
    {
     "data": {
      "image/png": "[encoded data removed]",
      "text/plain": [
       "<matplotlib.figure.Figure at 0x1a142c2a90>"
      ]
     },
     "metadata": {},
     "output_type": "display_data"
    }
   ],
   "source": [
    "plt.hist(x)\n",
    "plt.show()"
   ]
  },
  {
   "cell_type": "markdown",
   "metadata": {},
   "source": [
    "<br>\n",
    "### Numpy.random.randint\n",
    "Challenge 2. Generate 20 numbers between 1 and 5 "
   ]
  },
  {
   "cell_type": "code",
   "execution_count": 58,
   "metadata": {},
   "outputs": [
    {
     "data": {
      "text/plain": [
       "array([2, 2, 2, 3, 2, 1, 1, 1, 2, 3, 3, 4, 2, 3, 3, 1, 2, 1, 2, 1])"
      ]
     },
     "execution_count": 58,
     "metadata": {},
     "output_type": "execute_result"
    }
   ],
   "source": [
    "# Generate 20 numbers between 1 and 5 \n",
    "np.random.randint(1, 5, 20)"
   ]
  },
  {
   "cell_type": "code",
   "execution_count": 59,
   "metadata": {},
   "outputs": [
    {
     "data": {
      "text/plain": [
       "array([0, 4, 4, 0, 1, 4, 1, 1, 4, 1])"
      ]
     },
     "execution_count": 59,
     "metadata": {},
     "output_type": "execute_result"
    }
   ],
   "source": [
    "# can also do it with just the high number \n",
    "np.random.randint(5, size=10)"
   ]
  },
  {
   "cell_type": "markdown",
   "metadata": {
    "collapsed": true
   },
   "source": [
    "<br>\n",
    "### Numpy.random.choice\n",
    "\n",
    "Generates a random sample from a given 1-D array\n"
   ]
  },
  {
   "cell_type": "code",
   "execution_count": 60,
   "metadata": {},
   "outputs": [
    {
     "data": {
      "text/plain": [
       "array([8, 6, 2, 0, 2])"
      ]
     },
     "execution_count": 60,
     "metadata": {},
     "output_type": "execute_result"
    }
   ],
   "source": [
    "# Generate a uniform random sample from np.arange(10) of size 5\n",
    "# np.arange(10) = array([0, 1, 2, 3, 4, 5, 6, 7, 8, 9])\n",
    "\n",
    "np.random.choice(10, 5)"
   ]
  },
  {
   "cell_type": "markdown",
   "metadata": {},
   "source": [
    "<br>\n",
    "<br>\n",
    "\n",
    "# Permutations"
   ]
  },
  {
   "cell_type": "markdown",
   "metadata": {},
   "source": [
    "## Numpy.random.shuffle"
   ]
  },
  {
   "cell_type": "code",
   "execution_count": 61,
   "metadata": {},
   "outputs": [
    {
     "data": {
      "text/plain": [
       "array([ 7,  4, 14, 13, 11,  8,  3,  0,  6,  2, 12,  1, 10,  9,  5])"
      ]
     },
     "execution_count": 61,
     "metadata": {},
     "output_type": "execute_result"
    }
   ],
   "source": [
    "arr = np.arange(15)\n",
    "np.random.shuffle(arr)\n",
    "arr"
   ]
  },
  {
   "cell_type": "markdown",
   "metadata": {},
   "source": [
    "# References\n",
    "Python for Data Analysis: Data Wrangling with Pandas, NumPy, and IPython - Book by Wes McKinney\n",
    "\n",
    "Python Random Number Generator: the Random Module || Python Tutorial\n",
    "https://www.youtube.com/watch?v=zWL3z7NMqAs\n",
    "\n",
    "https://docs.scipy.org/doc/numpy-1.15.1/reference/routines.random.html\n"
   ]
  }
 ],
 "metadata": {
  "kernelspec": {
   "display_name": "Python 3",
   "language": "python",
   "name": "python3"
  },
  "language_info": {
   "codemirror_mode": {
    "name": "ipython",
    "version": 3
   },
   "file_extension": ".py",
   "mimetype": "text/x-python",
   "name": "python",
   "nbconvert_exporter": "python",
   "pygments_lexer": "ipython3",
   "version": "3.6.3"
  }
 },
 "nbformat": 4,
 "nbformat_minor": 2
}

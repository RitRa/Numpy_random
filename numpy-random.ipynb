{
 "cells": [
  {
   "cell_type": "markdown",
   "metadata": {},
   "source": [
    "# The numpy.random package"
   ]
  },
  {
   "cell_type": "markdown",
   "metadata": {},
   "source": [
    "An investigation in the functions of the numpy.random package in Python."
   ]
  },
  {
   "cell_type": "markdown",
   "metadata": {},
   "source": [
    "## Overall purpose of the package"
   ]
  },
  {
   "cell_type": "markdown",
   "metadata": {},
   "source": [
    "The NumPy library is the core library for scientific computing in\n",
    "Python. It provides a high-performance multidimensional array\n",
    "object, and tools for working with these arrays.\n",
    "\n",
    "The numpy.random module supplements the built-in Python random with functions\n",
    "for efficiently generating whole arrays of sample values from many kinds of probability\n",
    "distributions."
   ]
  },
  {
   "cell_type": "code",
   "execution_count": 5,
   "metadata": {
    "collapsed": true
   },
   "outputs": [],
   "source": [
    "#import numpy package\n",
    "import numpy as np"
   ]
  },
  {
   "cell_type": "markdown",
   "metadata": {},
   "source": [
    "## Simple random data\n",
    "Using np.random fucntions to generate simple data\n",
    "\n",
    "Some functions we will be investigating \n",
    "\n",
    "| Simple random data      | Description                                                      |\n",
    "|-------------------------|------------------------------------------------------------------|\n",
    "| Numpy.random.rand       | Generate random values of given shape                            |\n",
    "|-------------------------|------------------------------------------------------------------|\n",
    "| Numpy.random.randint    | Returns random integers from low (inclusive) to high (exclusive).|\n",
    "|-------------------------|------------------------------------------------------------------|\n",
    "| Numpy.random.random     | Return random floats in the half-open interval [0.0, 1.0         |\n",
    "|-------------------------|------------------------------------------------------------------|\n"
   ]
  },
  {
   "cell_type": "markdown",
   "metadata": {},
   "source": [
    "## Numpy.random.rand\n",
    "\n",
    "Returns random integers from low (inclusive) to high (exclusive).\n",
    "\n",
    "Generate random values of given shape\n",
    "\n",
    "Challenge 2. Create an array with 5 rows and 3 columns"
   ]
  },
  {
   "cell_type": "code",
   "execution_count": 12,
   "metadata": {},
   "outputs": [
    {
     "data": {
      "text/plain": [
       "array([[0.9246923 , 0.09239616, 0.54244609],\n",
       "       [0.85622795, 0.11946979, 0.98735557],\n",
       "       [0.55244001, 0.03849908, 0.29495838],\n",
       "       [0.52663892, 0.8878245 , 0.39594764],\n",
       "       [0.38567235, 0.23415921, 0.58337919]])"
      ]
     },
     "execution_count": 12,
     "metadata": {},
     "output_type": "execute_result"
    }
   ],
   "source": [
    "sample = np.random.rand(5, 3)\n",
    "sample"
   ]
  },
  {
   "cell_type": "code",
   "execution_count": 12,
   "metadata": {},
   "outputs": [
    {
     "data": {
      "text/plain": [
       "array([[0.71106835, 0.52629518],\n",
       "       [0.22400662, 0.73320608],\n",
       "       [0.99485054, 0.48368746],\n",
       "       [0.18884961, 0.78837131],\n",
       "       [0.05948327, 0.25967984]])"
      ]
     },
     "execution_count": 12,
     "metadata": {},
     "output_type": "execute_result"
    }
   ],
   "source": [
    "np.random.rand(5,2)"
   ]
  },
  {
   "cell_type": "code",
   "execution_count": 13,
   "metadata": {
    "collapsed": true
   },
   "outputs": [],
   "source": [
    "x =  np.random.rand(1000)"
   ]
  },
  {
   "cell_type": "markdown",
   "metadata": {},
   "source": [
    "## Numpy.random.randint\n",
    "Challenge 1. Generate 20 numbers between 1 and 5 "
   ]
  },
  {
   "cell_type": "code",
   "execution_count": 13,
   "metadata": {},
   "outputs": [
    {
     "data": {
      "text/plain": [
       "array([4, 1, 2, 2, 2, 3, 3, 3, 4, 3, 3, 4, 3, 4, 4, 4, 2, 1, 1, 2])"
      ]
     },
     "execution_count": 13,
     "metadata": {},
     "output_type": "execute_result"
    }
   ],
   "source": [
    "# Generate 20 numbers between 1 and 5 \n",
    "np.random.randint(1, 5, 20)"
   ]
  },
  {
   "cell_type": "code",
   "execution_count": 15,
   "metadata": {},
   "outputs": [
    {
     "data": {
      "text/plain": [
       "array([0, 3, 3, 2, 3, 1, 1, 0, 0, 3])"
      ]
     },
     "execution_count": 15,
     "metadata": {},
     "output_type": "execute_result"
    }
   ],
   "source": [
    "np.random.randint(5, size=10)"
   ]
  },
  {
   "cell_type": "markdown",
   "metadata": {
    "collapsed": true
   },
   "source": [
    "# Numpy.random.random\n",
    "\n",
    "Return random floats in the half-open interval [0.0, 1.0\n",
    "\n"
   ]
  },
  {
   "cell_type": "code",
   "execution_count": null,
   "metadata": {
    "collapsed": true
   },
   "outputs": [],
   "source": []
  },
  {
   "cell_type": "code",
   "execution_count": 15,
   "metadata": {},
   "outputs": [
    {
     "data": {
      "image/png": "[encoded data removed]",
      "text/plain": [
       "<matplotlib.figure.Figure at 0x10950d0b8>"
      ]
     },
     "metadata": {},
     "output_type": "display_data"
    }
   ],
   "source": [
    "import matplotlib.pyplot as plt\n",
    "plt.hist(x)\n",
    "plt.show()"
   ]
  },
  {
   "cell_type": "code",
   "execution_count": 9,
   "metadata": {
    "collapsed": true
   },
   "outputs": [],
   "source": [
    "z =  np.random.rand(50)\n",
    "y =  np.random.rand(10)"
   ]
  },
  {
   "cell_type": "code",
   "execution_count": 8,
   "metadata": {
    "collapsed": true
   },
   "outputs": [],
   "source": [
    "import seaborn as sns"
   ]
  },
  {
   "cell_type": "code",
   "execution_count": 9,
   "metadata": {},
   "outputs": [
    {
     "data": {
      "image/png": "[encoded data removed]",
      "text/plain": [
       "<matplotlib.figure.Figure at 0x1a1fefa3c8>"
      ]
     },
     "metadata": {},
     "output_type": "display_data"
    }
   ],
   "source": [
    "sns.distplot(z)\n",
    "plt.show()"
   ]
  },
  {
   "cell_type": "markdown",
   "metadata": {},
   "source": [
    "## Distributions\n",
    "np.random.uniform"
   ]
  },
  {
   "cell_type": "code",
   "execution_count": 17,
   "metadata": {},
   "outputs": [
    {
     "data": {
      "text/plain": [
       "array([-1.96049727e-01, -4.36232905e-01, -2.75028257e-01, -6.51497307e-01,\n",
       "       -9.28904429e-01, -6.92584905e-01, -3.03816756e-01, -9.26731216e-01,\n",
       "       -9.53874998e-01, -9.63078563e-01, -9.84930629e-01, -6.77590813e-01,\n",
       "       -3.26667549e-01, -2.64635466e-02, -7.36828987e-02, -7.86500048e-01,\n",
       "       -1.38268379e-01, -1.03250682e-01, -2.52880954e-02, -7.26648756e-01,\n",
       "       -6.59274548e-02, -3.02521608e-01, -9.73045761e-01, -7.80578612e-01,\n",
       "       -1.67366093e-01, -2.00735801e-01, -7.81503841e-01, -6.94208132e-01,\n",
       "       -7.30261417e-01, -8.46407484e-01, -4.13215113e-01, -6.81837882e-01,\n",
       "       -8.18892893e-01, -2.10337002e-01, -8.52735165e-01, -1.94957632e-02,\n",
       "       -4.24928078e-01, -7.24888210e-01, -3.15750981e-01, -7.15320658e-01,\n",
       "       -9.82479167e-01, -1.34862734e-01, -2.20891587e-01, -8.78498058e-01,\n",
       "       -9.19276036e-01, -9.08401469e-01, -4.96765498e-01, -9.55469472e-01,\n",
       "       -3.66971242e-01, -2.98378561e-02, -1.73213390e-01, -3.76726244e-01,\n",
       "       -5.02018462e-01, -1.78024914e-01, -2.52432352e-01, -7.74032122e-01,\n",
       "       -2.44708042e-01, -7.35946473e-01, -1.90992346e-01, -7.65666863e-01,\n",
       "       -7.29690241e-01, -5.73192363e-01, -1.36592380e-01, -2.90659708e-01,\n",
       "       -5.99082658e-01, -6.40552193e-01, -7.04614933e-01, -8.43159443e-01,\n",
       "       -9.81994933e-01, -4.61713948e-02, -9.73360492e-01, -6.51175594e-01,\n",
       "       -8.61988471e-02, -3.95016313e-01, -5.52599757e-01, -2.82526524e-01,\n",
       "       -3.88703040e-02, -3.72867513e-01, -3.52063187e-01, -8.58419045e-01,\n",
       "       -3.23929002e-02, -6.64755458e-02, -5.37163735e-01, -7.23514249e-02,\n",
       "       -8.67760602e-01, -5.04050254e-01, -2.91997192e-01, -7.90132282e-01,\n",
       "       -2.71389922e-03, -6.37769407e-01, -2.09173579e-01, -7.44109733e-01,\n",
       "       -5.20432681e-01, -8.35013947e-03, -3.55607103e-01, -8.68885023e-01,\n",
       "       -4.08080287e-01, -7.44810674e-01, -9.01057437e-01, -1.98842690e-01,\n",
       "       -4.05563017e-01, -1.21024611e-01, -6.22390216e-01, -5.11967234e-01,\n",
       "       -5.58839121e-02, -9.99286085e-01, -4.19280943e-01, -5.57130917e-01,\n",
       "       -7.68651708e-02, -5.78640823e-01, -6.02755191e-01, -1.72725019e-02,\n",
       "       -6.49851488e-01, -8.86985266e-01, -4.54447020e-01, -2.00191143e-03,\n",
       "       -2.77539037e-01, -2.67596459e-01, -6.81729690e-01, -3.05441016e-01,\n",
       "       -7.07952871e-01, -7.96110396e-01, -3.67881845e-01, -6.09816784e-01,\n",
       "       -4.90119659e-01, -4.04990565e-01, -8.53116155e-01, -2.99683597e-01,\n",
       "       -5.53919236e-01, -6.78503868e-01, -7.21307152e-01, -4.51728371e-01,\n",
       "       -8.47940262e-01, -2.88052646e-01, -5.36930754e-01, -2.81694763e-01,\n",
       "       -4.97210522e-01, -5.84041335e-01, -1.00163989e-01, -7.84708922e-01,\n",
       "       -1.50467696e-01, -5.70175109e-01, -2.42716725e-01, -5.27125347e-01,\n",
       "       -7.11538392e-02, -1.76655992e-01, -7.01010571e-01, -8.89279821e-03,\n",
       "       -8.84912383e-01, -1.35201468e-01, -5.34470545e-01, -1.76197610e-01,\n",
       "       -1.01975303e-01, -1.57816329e-01, -8.50289715e-01, -8.16321787e-01,\n",
       "       -3.05131382e-01, -2.95612262e-01, -6.01703598e-01, -3.40702565e-01,\n",
       "       -2.02604426e-02, -2.02824574e-01, -9.18436933e-02, -2.67701257e-01,\n",
       "       -9.23350053e-01, -9.09083915e-01, -3.53795921e-01, -6.10325462e-01,\n",
       "       -3.82881469e-01, -5.61637722e-01, -9.91724773e-02, -1.98711064e-01,\n",
       "       -8.78382908e-01, -7.70569756e-01, -4.56601881e-01, -7.26792231e-01,\n",
       "       -8.52838304e-01, -3.38470904e-01, -1.02142065e-01, -3.93982227e-01,\n",
       "       -5.92193840e-02, -3.50645284e-01, -8.49773950e-01, -1.79843072e-01,\n",
       "       -1.82380890e-01, -7.69832559e-01, -4.19512792e-01, -6.34561990e-01,\n",
       "       -8.20944774e-01, -9.86946150e-01, -7.68928834e-01, -9.61428299e-01,\n",
       "       -4.16370852e-01, -4.41232360e-01, -6.34219658e-01, -1.44898876e-01,\n",
       "       -8.99953289e-01, -3.88783784e-01, -4.59197199e-01, -5.27883351e-01,\n",
       "       -9.95835402e-01, -6.08336071e-01, -8.57137636e-01, -1.27194687e-01,\n",
       "       -8.72085692e-01, -5.33362894e-01, -5.14903269e-01, -4.20405799e-01,\n",
       "       -8.49316749e-01, -5.90786167e-01, -1.14604156e-01, -2.79741040e-01,\n",
       "       -3.59393798e-01, -3.27741259e-01, -3.93843223e-01, -7.00157272e-01,\n",
       "       -7.91138897e-01, -8.48867573e-01, -3.68911063e-02, -4.47407058e-01,\n",
       "       -9.97080556e-01, -1.83962075e-02, -4.38574995e-02, -6.92872164e-01,\n",
       "       -5.11115459e-01, -5.40323078e-02, -8.23842236e-01, -1.49267222e-01,\n",
       "       -4.48053600e-01, -8.21144325e-01, -3.34753916e-01, -5.12788572e-01,\n",
       "       -1.21543652e-02, -2.46443355e-01, -1.83646006e-01, -2.35651343e-01,\n",
       "       -8.94313821e-01, -1.34676667e-01, -1.22349960e-01, -5.30181334e-01,\n",
       "       -5.75437502e-01, -8.45521907e-01, -2.58112487e-02, -6.80068120e-01,\n",
       "       -9.92997214e-01, -3.12326207e-01, -8.79191758e-01, -3.19521102e-01,\n",
       "       -9.89569365e-01, -4.81700396e-01, -7.52497611e-01, -4.55878232e-01,\n",
       "       -2.57388420e-01, -5.73137701e-01, -8.66595401e-02, -6.45578357e-01,\n",
       "       -4.09537114e-02, -1.21893061e-01, -2.66841278e-01, -5.85119880e-01,\n",
       "       -3.35119856e-01, -1.67731375e-01, -4.69174604e-01, -4.61293622e-01,\n",
       "       -1.93821250e-01, -2.09839698e-01, -4.25100645e-01, -5.13977974e-01,\n",
       "       -6.82680714e-01, -9.12857177e-01, -9.99736781e-01, -7.41225594e-01,\n",
       "       -8.93619007e-01, -7.03656021e-01, -9.15157012e-01, -9.62645752e-01,\n",
       "       -9.77430348e-02, -4.59270257e-01, -3.71544683e-01, -3.96059425e-01,\n",
       "       -8.31513093e-01, -6.41395007e-01, -2.61769191e-01, -5.93285363e-01,\n",
       "       -7.34976608e-01, -7.65277055e-01, -5.38982569e-01, -1.14958016e-01,\n",
       "       -9.56329334e-01, -1.05860477e-01, -4.63954245e-01, -6.25050233e-01,\n",
       "       -3.28002683e-02, -4.52241635e-01, -9.12787476e-01, -1.22419430e-01,\n",
       "       -4.64865005e-01, -8.00033135e-01, -4.95074416e-01, -9.08563479e-01,\n",
       "       -1.16142694e-01, -4.37767133e-01, -4.25707666e-01, -7.54253864e-01,\n",
       "       -2.23969480e-01, -3.28903749e-02, -5.48481197e-01, -9.66983617e-01,\n",
       "       -5.79969090e-02, -7.40995859e-01, -9.87215632e-02, -9.54932963e-01,\n",
       "       -9.25875018e-01, -5.67654022e-01, -7.49020101e-01, -5.05926306e-01,\n",
       "       -2.33183141e-01, -3.80788542e-01, -5.38758732e-01, -9.59028585e-01,\n",
       "       -7.71458038e-01, -4.75339190e-01, -5.46185392e-03, -7.06911994e-01,\n",
       "       -2.59920076e-01, -2.84213515e-01, -6.22788908e-01, -4.63043326e-01,\n",
       "       -5.32906859e-01, -7.73694152e-01, -3.85576330e-01, -3.56115302e-01,\n",
       "       -3.10570518e-01, -7.40015059e-01, -6.81125884e-01, -7.61717921e-01,\n",
       "       -4.54893459e-01, -8.69796315e-01, -4.29686908e-01, -1.98621978e-01,\n",
       "       -8.35301814e-02, -3.06280075e-01, -8.82044261e-01, -2.47557659e-01,\n",
       "       -4.56125062e-01, -5.90562098e-02, -1.35498312e-01, -5.42574257e-01,\n",
       "       -4.81190661e-01, -1.60468220e-01, -3.17262471e-01, -1.66505948e-01,\n",
       "       -9.15683648e-01, -1.77935603e-01, -9.75718621e-01, -4.73499738e-01,\n",
       "       -5.33759924e-01, -8.00594499e-02, -8.22600619e-01, -2.98885622e-01,\n",
       "       -4.57574356e-02, -6.41923317e-01, -2.70792759e-02, -3.25437109e-01,\n",
       "       -6.02463337e-01, -6.46872800e-01, -9.73468538e-01, -2.14117540e-01,\n",
       "       -7.52191799e-01, -1.48965237e-01, -4.22823900e-02, -1.87591954e-01,\n",
       "       -2.72934968e-01, -2.49043508e-01, -4.81923344e-01, -4.54416665e-01,\n",
       "       -9.20529775e-01, -6.63506204e-01, -1.33400950e-01, -8.42213318e-01,\n",
       "       -3.68287355e-01, -1.76202640e-01, -8.03323141e-01, -5.70654376e-01,\n",
       "       -7.55471515e-01, -1.79564037e-01, -1.17435903e-01, -6.19293258e-01,\n",
       "       -3.01082860e-01, -7.94906453e-01, -5.21869190e-01, -4.25983410e-01,\n",
       "       -8.29284497e-01, -1.36618540e-01, -6.25307721e-02, -3.43511974e-01,\n",
       "       -1.30521417e-01, -8.36371886e-01, -2.19080119e-01, -9.85955091e-01,\n",
       "       -1.50079578e-01, -4.92082392e-01, -4.83630977e-01, -7.80108686e-01,\n",
       "       -4.06951841e-01, -7.66478014e-01, -4.58096160e-01, -2.33519806e-01,\n",
       "       -6.81622708e-01, -8.57713026e-01, -1.87313454e-02, -6.02056944e-01,\n",
       "       -1.49787025e-01, -5.14499743e-01, -7.85113443e-01, -2.65081595e-01,\n",
       "       -2.96483026e-01, -7.84158787e-01, -4.24342835e-01, -4.84736152e-01,\n",
       "       -8.53755623e-02, -2.91121070e-01, -4.64117368e-01, -2.43655066e-02,\n",
       "       -8.72581219e-02, -1.48178168e-01, -6.61960369e-01, -8.49083833e-03,\n",
       "       -7.32744258e-01, -2.24177970e-01, -7.49703033e-01, -3.48992632e-01,\n",
       "       -2.28140011e-01, -5.28755393e-03, -3.94587923e-01, -5.72505563e-01,\n",
       "       -3.68441978e-01, -6.69603784e-01, -1.78001974e-01, -2.40770079e-02,\n",
       "       -8.03352157e-01, -9.21322375e-01, -5.48724279e-01, -4.99260589e-01,\n",
       "       -1.35833888e-01, -8.20661330e-01, -1.18950869e-01, -8.07851628e-01,\n",
       "       -5.86795517e-01, -7.13634370e-01, -5.82719552e-01, -6.76545198e-01,\n",
       "       -3.34720281e-01, -6.25897924e-01, -7.32022960e-03, -2.99081854e-01,\n",
       "       -3.50354538e-01, -5.77917330e-01, -8.07547185e-01, -8.94690003e-01,\n",
       "       -6.03834909e-01, -6.96471660e-01, -6.36890242e-01, -2.54621306e-01,\n",
       "       -1.64175113e-01, -5.55476360e-03, -2.09718300e-02, -1.73857714e-01,\n",
       "       -2.33797633e-01, -4.36106985e-01, -7.32492810e-01, -3.29367536e-01,\n",
       "       -1.37951959e-01, -6.84267058e-01, -4.70693703e-01, -2.13115511e-01,\n",
       "       -2.97285751e-01, -9.53995991e-01, -5.11792489e-01, -2.62202924e-01,\n",
       "       -5.33157662e-01, -9.72546261e-01, -4.22349626e-01, -6.20261162e-01,\n",
       "       -9.62850831e-01, -8.15996428e-01, -1.34424077e-01, -6.77798708e-01,\n",
       "       -3.28213683e-02, -7.14513352e-01, -6.21858485e-01, -7.40666541e-01,\n",
       "       -5.57365531e-01, -8.22843009e-01, -4.42237955e-01, -3.55890158e-01,\n",
       "       -8.29885805e-01, -9.27364891e-02, -9.63617456e-02, -4.02858934e-01,\n",
       "       -1.44510285e-01, -1.24596468e-01, -4.20059698e-01, -3.46457338e-01,\n",
       "       -2.19312791e-01, -9.25934138e-01, -8.16480980e-01, -5.28083636e-01,\n",
       "       -7.99151222e-01, -4.12268905e-01, -4.74387993e-01, -5.06252370e-01,\n",
       "       -5.89387048e-01, -7.55163642e-01, -1.85416202e-01, -6.91808803e-01,\n",
       "       -5.82196647e-03, -1.53055257e-01, -7.76285307e-02, -9.07131937e-01,\n",
       "       -8.57502639e-01, -8.36444529e-01, -9.30810263e-01, -8.36554131e-01,\n",
       "       -7.22073628e-01, -4.11534355e-02, -9.86769734e-01, -5.16444384e-01,\n",
       "       -9.30371099e-01, -3.34770785e-01, -1.66414314e-01, -9.29851753e-01,\n",
       "       -6.99604266e-02, -7.85099854e-01, -9.26630052e-02, -6.45982194e-01,\n",
       "       -6.98576294e-01, -3.45516011e-01, -1.63122649e-01, -3.25966829e-01,\n",
       "       -9.65435950e-01, -8.01420540e-01, -2.75225921e-01, -7.71086802e-01,\n",
       "       -7.57510788e-01, -1.79808476e-01, -8.53027687e-01, -6.51867647e-01,\n",
       "       -6.56533465e-01, -4.61551000e-01, -8.60118330e-01, -6.72146413e-01,\n",
       "       -4.29043493e-01, -2.04531227e-01, -2.79682384e-01, -4.28484540e-01,\n",
       "       -2.50717416e-02, -8.52589684e-01, -5.78685848e-01, -9.58708833e-01,\n",
       "       -9.02012933e-01, -3.89012799e-01, -9.06361796e-01, -3.29604035e-01,\n",
       "       -9.54411988e-01, -6.62936346e-01, -6.82728985e-01, -9.80112002e-01,\n",
       "       -4.49334215e-01, -3.31709226e-01, -3.79467812e-01, -1.15056215e-01,\n",
       "       -2.22478611e-02, -2.49812016e-01, -8.72512087e-01, -5.03055375e-01,\n",
       "       -6.20624094e-01, -9.29716715e-01, -7.41464747e-01, -9.68934293e-02,\n",
       "       -8.55056255e-01, -9.43248718e-01, -4.98293306e-01, -2.64064522e-01,\n",
       "       -2.01619203e-01, -6.63203880e-01, -7.09142017e-01, -8.95875370e-01,\n",
       "       -5.77488768e-01, -5.72536710e-01, -2.06388486e-02, -1.11598581e-01,\n",
       "       -3.92629508e-01, -4.28038347e-01, -1.84065838e-01, -9.31259915e-01,\n",
       "       -4.37478954e-01, -7.33175321e-02, -9.89662333e-01, -7.86160562e-01,\n",
       "       -1.52118158e-01, -6.56761401e-01, -8.52415723e-01, -1.34647889e-01,\n",
       "       -8.31119502e-01, -6.22046049e-01, -4.31260143e-01, -5.31922134e-01,\n",
       "       -5.28525500e-01, -5.05486126e-01, -7.91466988e-02, -6.67677593e-01,\n",
       "       -8.24086766e-01, -7.07711939e-01, -7.46300575e-01, -5.30369711e-01,\n",
       "       -3.37855321e-01, -6.85062985e-01, -5.27422078e-01, -8.03209992e-01,\n",
       "       -7.15192386e-01, -1.03821997e-01, -1.36952792e-01, -1.29473409e-01,\n",
       "       -7.23192546e-01, -9.65708000e-01, -3.69234786e-01, -4.39560197e-01,\n",
       "       -3.75667019e-01, -4.40539027e-01, -6.51697157e-01, -7.30596912e-01,\n",
       "       -1.91867082e-01, -9.52381981e-01, -5.01831678e-01, -4.95547805e-02,\n",
       "       -9.02239111e-01, -7.98769121e-02, -6.53847225e-01, -6.83606824e-01,\n",
       "       -3.01081728e-01, -5.71065798e-01, -3.05757961e-01, -2.36561049e-02,\n",
       "       -9.35654201e-01, -5.14935255e-01, -9.06320533e-02, -8.50640289e-01,\n",
       "       -9.57404755e-01, -9.39954667e-01, -6.01676815e-01, -9.06036925e-01,\n",
       "       -7.40320113e-01, -8.26901942e-02, -4.30148742e-01, -1.99951184e-01,\n",
       "       -6.53976132e-02, -5.06810139e-02, -1.08494208e-01, -1.53175429e-01,\n",
       "       -3.38267566e-01, -8.54037658e-01, -3.57729893e-01, -9.48845212e-01,\n",
       "       -7.73350646e-01, -7.69557954e-01, -5.78352643e-01, -9.89435556e-01,\n",
       "       -1.49626626e-01, -6.27582562e-01, -3.84121747e-01, -2.63492247e-02,\n",
       "       -8.12381112e-01, -6.95017977e-01, -4.17268649e-02, -5.54104065e-01,\n",
       "       -5.60075297e-01, -6.50165085e-01, -8.77235581e-01, -8.93348236e-01,\n",
       "       -3.97891716e-01, -6.98094939e-01, -2.82393213e-01, -1.85418586e-01,\n",
       "       -4.13846059e-01, -4.23326363e-01, -4.82933384e-01, -1.99609859e-01,\n",
       "       -1.24341353e-02, -6.17995906e-01, -2.25175885e-01, -6.80342253e-01,\n",
       "       -4.99615672e-01, -3.53119396e-01, -9.68789536e-02, -7.22380344e-01,\n",
       "       -1.19861304e-01, -7.20485867e-01, -3.97113595e-01, -2.67153983e-01,\n",
       "       -5.50756227e-01, -7.81124990e-01, -5.31107850e-01, -2.03993962e-01,\n",
       "       -9.01101450e-01, -6.68549363e-01, -4.36422703e-01, -5.36805425e-01,\n",
       "       -4.18531046e-01, -9.88373436e-01, -7.50173115e-01, -4.73512274e-01,\n",
       "       -9.65548394e-01, -5.17533843e-04, -7.18671801e-01, -6.72712446e-01,\n",
       "       -8.11748118e-01, -2.04321912e-02, -3.42281574e-01, -6.92706766e-02,\n",
       "       -5.33969986e-01, -4.14562448e-01, -2.31437226e-01, -1.92792622e-01,\n",
       "       -7.25876102e-01, -6.14694023e-01, -8.18191935e-01, -4.72904838e-01,\n",
       "       -1.98080971e-01, -1.59734628e-02, -1.04706629e-01, -2.98173420e-01,\n",
       "       -3.98578305e-01, -7.61669801e-01, -9.96367788e-01, -6.27001464e-01,\n",
       "       -3.82600437e-01, -2.65335035e-02, -1.72760926e-01, -2.72917987e-01,\n",
       "       -1.07952131e-02, -1.74735711e-01, -1.86006916e-01, -9.60821035e-01,\n",
       "       -7.47597984e-01, -5.35554733e-01, -4.67205406e-03, -2.57645245e-01,\n",
       "       -5.70928194e-01, -4.77374525e-01, -4.52566807e-01, -6.06190356e-01,\n",
       "       -8.19271577e-01, -8.69479921e-01, -6.87064951e-02, -5.92419148e-01,\n",
       "       -4.79432014e-01, -2.41398088e-01, -2.83975150e-01, -5.62270239e-01,\n",
       "       -5.45063263e-01, -8.63190577e-01, -1.48089296e-01, -5.34417064e-01,\n",
       "       -3.18255708e-01, -1.76466698e-01, -9.22132985e-01, -7.78147510e-01,\n",
       "       -4.06187315e-01, -2.27657584e-01, -9.95783410e-01, -9.99774599e-01,\n",
       "       -3.60454378e-01, -6.67888243e-01, -8.53888690e-01, -5.77932565e-01,\n",
       "       -6.15628053e-01, -3.74696137e-01, -1.02219078e-01, -2.52440152e-01,\n",
       "       -2.23527749e-01, -3.43410376e-01, -1.03715015e-01, -4.56978394e-01,\n",
       "       -8.06838492e-01, -7.60714810e-01, -6.73962916e-01, -9.16332862e-01,\n",
       "       -9.82619999e-01, -2.75609293e-01, -3.08163553e-01, -8.08232707e-01,\n",
       "       -6.71441406e-01, -6.23860682e-02, -2.51364642e-01, -4.68266767e-01,\n",
       "       -1.39954188e-01, -4.17405700e-01, -9.35811363e-01, -2.95746780e-01,\n",
       "       -7.38470998e-01, -7.28056449e-01, -4.54240960e-01, -3.05933962e-01,\n",
       "       -1.33874594e-01, -6.69169090e-01, -9.81504297e-01, -5.24737554e-01,\n",
       "       -7.59950761e-01, -2.23603158e-01, -8.11630542e-01, -3.87343928e-01,\n",
       "       -8.92543430e-01, -9.96667587e-01, -5.67253018e-01, -3.93815689e-01,\n",
       "       -6.11481479e-01, -4.83695913e-01, -4.59106677e-01, -3.06590306e-01,\n",
       "       -5.03573642e-01, -1.18628327e-01, -4.20818424e-01, -9.73062050e-01,\n",
       "       -4.68638099e-01, -6.82723832e-01, -5.99681892e-01, -3.06089214e-01,\n",
       "       -6.81533703e-01, -7.61199406e-01, -5.40641525e-01, -3.63805386e-01,\n",
       "       -8.11217903e-01, -6.07905548e-01, -5.17710783e-01, -8.53211009e-01,\n",
       "       -8.87094355e-01, -7.03220623e-01, -1.89804866e-01, -6.63497856e-01,\n",
       "       -8.62970855e-02, -4.27519930e-01, -4.98009554e-01, -3.87084824e-03,\n",
       "       -3.45502877e-01, -5.86202225e-01, -7.52625864e-01, -6.85988667e-01,\n",
       "       -7.50943901e-01, -1.14836128e-01, -7.26561288e-01, -6.08138098e-01,\n",
       "       -7.94711997e-01, -3.10307440e-01, -2.83423868e-01, -8.39031140e-02,\n",
       "       -9.34857575e-01, -4.27948407e-01, -9.92244185e-01, -1.48710375e-01,\n",
       "       -5.42793089e-01, -7.23956756e-01, -9.59627834e-01, -4.82157896e-02,\n",
       "       -2.66245161e-01, -2.91344055e-03, -8.49664043e-01, -7.04265038e-01,\n",
       "       -5.10918692e-01, -8.20255934e-01, -3.36810652e-01, -4.65291144e-01,\n",
       "       -7.63055533e-01, -1.43156451e-01, -7.10860086e-01, -2.25435959e-01,\n",
       "       -7.14782555e-01, -5.95054381e-02, -9.37959599e-01, -7.82711915e-01,\n",
       "       -6.52319203e-01, -2.52203315e-01, -7.74003835e-01, -2.61769383e-01,\n",
       "       -2.19979726e-01, -6.46425583e-01, -9.90876448e-01, -5.56365399e-01,\n",
       "       -7.60628520e-01, -4.19346580e-01, -3.21553735e-01, -4.89334414e-01,\n",
       "       -1.39206424e-01, -8.37561347e-01, -5.24234618e-01, -1.75636976e-01,\n",
       "       -6.95499494e-01, -4.57511993e-01, -8.77808300e-02, -2.97494048e-01,\n",
       "       -1.64479726e-01, -8.40467906e-01, -4.55799176e-01, -1.95829377e-01,\n",
       "       -7.43256364e-01, -9.24205635e-01, -8.22916158e-01, -3.73215539e-01,\n",
       "       -6.01340747e-01, -3.66079725e-01, -2.71432694e-01, -1.11713648e-01,\n",
       "       -3.53269369e-01, -1.91288143e-01, -3.83653420e-01, -5.12094162e-01,\n",
       "       -1.41177401e-01, -4.44181350e-01, -7.04172754e-01, -9.76139761e-01,\n",
       "       -1.58497805e-01, -2.62245923e-02, -9.61779525e-01, -5.90585151e-02,\n",
       "       -3.96624490e-01, -5.42902798e-01, -1.57908815e-01, -2.19688692e-01,\n",
       "       -7.44919591e-01, -9.59993039e-01, -7.42373716e-01, -9.14770118e-01,\n",
       "       -8.67817954e-01, -4.65757951e-01, -4.63200164e-01, -8.54668481e-01,\n",
       "       -6.78646103e-01, -5.22622719e-01, -4.36202242e-01, -5.17817441e-01,\n",
       "       -8.72392957e-01, -3.80385098e-01, -7.82102932e-01, -3.18961311e-01,\n",
       "       -8.09812641e-01, -3.21793440e-01, -3.27076068e-01, -2.45674719e-01,\n",
       "       -9.50779553e-01, -7.79085928e-01, -5.23740922e-02, -8.59779359e-03,\n",
       "       -1.65697594e-01, -5.49436776e-01, -2.19886130e-01, -8.54489296e-01,\n",
       "       -8.31884869e-01, -3.42245983e-01, -4.54396193e-01, -6.55480122e-01,\n",
       "       -2.09517883e-01, -3.06892952e-01, -4.04503870e-01, -2.07533879e-01,\n",
       "       -9.98321257e-02, -9.87266025e-01, -4.02613044e-01, -1.27547131e-01,\n",
       "       -6.99705669e-01, -2.85638235e-01, -1.67430984e-01, -3.67807194e-01,\n",
       "       -3.54314740e-02, -4.30072844e-01, -3.44371380e-01, -1.34953150e-01,\n",
       "       -4.99391462e-01, -4.41230415e-01, -6.35625998e-01, -9.58563838e-01,\n",
       "       -1.57414962e-01, -3.79511664e-01, -4.10178323e-01, -2.65485396e-01,\n",
       "       -3.21031651e-03, -8.78203468e-01, -6.62776256e-01, -6.66350816e-01,\n",
       "       -5.43315795e-01, -8.05040843e-01, -8.39663118e-01, -6.66262628e-02,\n",
       "       -9.99715629e-01, -6.42453199e-01, -3.27018346e-01, -2.31408043e-01,\n",
       "       -3.87714172e-02, -4.89941327e-02, -2.95282175e-01, -6.72603873e-01])"
      ]
     },
     "execution_count": 17,
     "metadata": {},
     "output_type": "execute_result"
    }
   ],
   "source": [
    "s = np.random.uniform(-1,0,1000)\n",
    "s\n"
   ]
  },
  {
   "cell_type": "code",
   "execution_count": 18,
   "metadata": {},
   "outputs": [
    {
     "ename": "NameError",
     "evalue": "name 'sns' is not defined",
     "output_type": "error",
     "traceback": [
      "\u001b[0;31m--------------------------------------------------------\u001b[0m",
      "\u001b[0;31mNameError\u001b[0m              Traceback (most recent call last)",
      "\u001b[0;32m<ipython-input-18-2c908e106c0b>\u001b[0m in \u001b[0;36m<module>\u001b[0;34m()\u001b[0m\n\u001b[0;32m----> 1\u001b[0;31m \u001b[0msns\u001b[0m\u001b[0;34m.\u001b[0m\u001b[0mdistplot\u001b[0m\u001b[0;34m(\u001b[0m\u001b[0ms\u001b[0m\u001b[0;34m)\u001b[0m\u001b[0;34m\u001b[0m\u001b[0m\n\u001b[0m\u001b[1;32m      2\u001b[0m \u001b[0mplt\u001b[0m\u001b[0;34m.\u001b[0m\u001b[0mshow\u001b[0m\u001b[0;34m(\u001b[0m\u001b[0;34m)\u001b[0m\u001b[0;34m\u001b[0m\u001b[0m\n",
      "\u001b[0;31mNameError\u001b[0m: name 'sns' is not defined"
     ]
    }
   ],
   "source": [
    "sns.distplot(s)\n",
    "plt.show()"
   ]
  },
  {
   "cell_type": "markdown",
   "metadata": {},
   "source": [
    "Multinomial Distribution"
   ]
  },
  {
   "cell_type": "code",
   "execution_count": 35,
   "metadata": {},
   "outputs": [
    {
     "data": {
      "image/png": "[encoded data removed]",
      "text/plain": [
       "<matplotlib.figure.Figure at 0x1a20448dd8>"
      ]
     },
     "metadata": {},
     "output_type": "display_data"
    }
   ],
   "source": [
    "s = np.random.multinomial(20, [1/6.]*6, size=1)\n",
    "sns.distplot(s)\n",
    "plt.show()"
   ]
  },
  {
   "cell_type": "markdown",
   "metadata": {},
   "source": [
    "Normal Distribution"
   ]
  },
  {
   "cell_type": "code",
   "execution_count": 36,
   "metadata": {},
   "outputs": [
    {
     "data": {
      "image/png": "[encoded data removed]",
      "text/plain": [
       "<matplotlib.figure.Figure at 0x1a204269e8>"
      ]
     },
     "metadata": {},
     "output_type": "display_data"
    }
   ],
   "source": [
    "p = np.random.normal(10, 0.1, 1000)\n",
    "sns.distplot(p)\n",
    "plt.show()"
   ]
  },
  {
   "cell_type": "markdown",
   "metadata": {},
   "source": [
    "# Random Generator"
   ]
  },
  {
   "cell_type": "markdown",
   "metadata": {},
   "source": [
    "# References\n",
    "Python for Data Analysis: Data Wrangling with Pandas, NumPy, and IPython - Book by Wes McKinney\n",
    "\n",
    "Python Random Number Generator: the Random Module || Python Tutorial\n",
    "https://www.youtube.com/watch?v=zWL3z7NMqAs\n",
    "\n",
    "https://docs.scipy.org/doc/numpy-1.15.1/reference/routines.random.html\n"
   ]
  },
  {
   "cell_type": "code",
   "execution_count": null,
   "metadata": {
    "collapsed": true
   },
   "outputs": [],
   "source": []
  }
 ],
 "metadata": {
  "kernelspec": {
   "display_name": "Python 3",
   "language": "python",
   "name": "python3"
  },
  "language_info": {
   "codemirror_mode": {
    "name": "ipython",
    "version": 3
   },
   "file_extension": ".py",
   "mimetype": "text/x-python",
   "name": "python",
   "nbconvert_exporter": "python",
   "pygments_lexer": "ipython3",
   "version": "3.6.3"
  }
 },
 "nbformat": 4,
 "nbformat_minor": 2
}

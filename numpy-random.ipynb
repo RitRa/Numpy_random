{
 "cells": [
  {
   "cell_type": "markdown",
   "metadata": {},
   "source": [
    "# The numpy.random package"
   ]
  },
  {
   "cell_type": "markdown",
   "metadata": {},
   "source": [
    "An investigation in the functions of the numpy.random package in Python."
   ]
  },
  {
   "cell_type": "markdown",
   "metadata": {},
   "source": [
    "### Overall purpose of the package"
   ]
  },
  {
   "cell_type": "markdown",
   "metadata": {},
   "source": [
    "The NumPy library is the core library for scientific computing in\n",
    "Python. It provides a high-performance multidimensional array\n",
    "object, and tools for working with these arrays. Library documentation: http://www.numpy.org/\n",
    "\n",
    "The numpy.random module supplements the built-in Python random with functions\n",
    "for efficiently generating whole arrays of sample values from many kinds of probability\n",
    "distributions. Documentation https://docs.scipy.org/doc/numpy-1.15.1/reference/routines.random.html"
   ]
  },
  {
   "cell_type": "code",
   "execution_count": 2,
   "metadata": {
    "collapsed": true
   },
   "outputs": [],
   "source": [
    "#import packages\n",
    "import numpy as np\n",
    "import pandas as pd\n",
    "import matplotlib.pyplot as plt\n",
    "import seaborn as sns"
   ]
  },
  {
   "cell_type": "markdown",
   "metadata": {},
   "source": [
    "# Simple Random Data\n",
    "Using np.random functions to generate simple data\n",
    "\n",
    "Some functions we will be investigating:"
   ]
  },
  {
   "cell_type": "code",
   "execution_count": 3,
   "metadata": {},
   "outputs": [
    {
     "data": {
      "text/html": [
       "<div>\n",
       "<style scoped>\n",
       "    .dataframe tbody tr th:only-of-type {\n",
       "        vertical-align: middle;\n",
       "    }\n",
       "\n",
       "    .dataframe tbody tr th {\n",
       "        vertical-align: top;\n",
       "    }\n",
       "\n",
       "    .dataframe thead th {\n",
       "        text-align: right;\n",
       "    }\n",
       "</style>\n",
       "<table border=\"1\" class=\"dataframe\">\n",
       "  <thead>\n",
       "    <tr style=\"text-align: right;\">\n",
       "      <th></th>\n",
       "      <th>Simple random data</th>\n",
       "      <th>Description</th>\n",
       "    </tr>\n",
       "  </thead>\n",
       "  <tbody>\n",
       "    <tr>\n",
       "      <th>0</th>\n",
       "      <td>Numpy.random.rand</td>\n",
       "      <td>Generates random values of given shape</td>\n",
       "    </tr>\n",
       "    <tr>\n",
       "      <th>1</th>\n",
       "      <td>Numpy.random.randint</td>\n",
       "      <td>Returns random integers from low (inclusive) t...</td>\n",
       "    </tr>\n",
       "    <tr>\n",
       "      <th>2</th>\n",
       "      <td>Numpy.random.choice</td>\n",
       "      <td>Generates a random sample from a given 1-D array</td>\n",
       "    </tr>\n",
       "  </tbody>\n",
       "</table>\n",
       "</div>"
      ],
      "text/plain": [
       "     Simple random data                                        Description\n",
       "0     Numpy.random.rand             Generates random values of given shape\n",
       "1  Numpy.random.randint  Returns random integers from low (inclusive) t...\n",
       "2  Numpy.random.choice    Generates a random sample from a given 1-D array"
      ]
     },
     "execution_count": 3,
     "metadata": {},
     "output_type": "execute_result"
    }
   ],
   "source": [
    "data = [['Numpy.random.rand', 'Generates random values of given shape'], \n",
    "        ['Numpy.random.randint' , 'Returns random integers from low (inclusive) to high (exclusive).'],\n",
    "       ['Numpy.random.choice ','Generates a random sample from a given 1-D array']]\n",
    "pd.DataFrame(data, columns=[\"Simple random data\", \"Description\"])\n"
   ]
  },
  {
   "cell_type": "markdown",
   "metadata": {},
   "source": [
    "<br>\n",
    "### Numpy.random.rand\n",
    "\n",
    "Returns random integers from low (inclusive) to high (exclusive).\n",
    "\n",
    "Generate random values of given shape"
   ]
  },
  {
   "cell_type": "code",
   "execution_count": 4,
   "metadata": {},
   "outputs": [
    {
     "data": {
      "text/plain": [
       "array([[0.32902989, 0.32392052, 0.1781669 ],\n",
       "       [0.48237217, 0.52770641, 0.91523859],\n",
       "       [0.98889312, 0.45997378, 0.18686464],\n",
       "       [0.76872309, 0.39720831, 0.05775057],\n",
       "       [0.99546137, 0.3067615 , 0.7449642 ]])"
      ]
     },
     "execution_count": 4,
     "metadata": {},
     "output_type": "execute_result"
    }
   ],
   "source": [
    "# Challenge 1. Create an array with 5 rows and 3 columns\n",
    "sample = np.random.rand(5, 3)\n",
    "sample"
   ]
  },
  {
   "cell_type": "code",
   "execution_count": 5,
   "metadata": {},
   "outputs": [
    {
     "data": {
      "text/html": [
       "<div>\n",
       "<style scoped>\n",
       "    .dataframe tbody tr th:only-of-type {\n",
       "        vertical-align: middle;\n",
       "    }\n",
       "\n",
       "    .dataframe tbody tr th {\n",
       "        vertical-align: top;\n",
       "    }\n",
       "\n",
       "    .dataframe thead th {\n",
       "        text-align: right;\n",
       "    }\n",
       "</style>\n",
       "<table border=\"1\" class=\"dataframe\">\n",
       "  <thead>\n",
       "    <tr style=\"text-align: right;\">\n",
       "      <th></th>\n",
       "      <th>col 1</th>\n",
       "      <th>col 2</th>\n",
       "      <th>col 3</th>\n",
       "      <th>col 4</th>\n",
       "      <th>col 5</th>\n",
       "      <th>col 6</th>\n",
       "      <th>col 7</th>\n",
       "      <th>col 8</th>\n",
       "      <th>col 9</th>\n",
       "      <th>col 10</th>\n",
       "    </tr>\n",
       "  </thead>\n",
       "  <tbody>\n",
       "    <tr>\n",
       "      <th>0</th>\n",
       "      <td>0.772431</td>\n",
       "      <td>0.085816</td>\n",
       "      <td>0.227356</td>\n",
       "      <td>0.675725</td>\n",
       "      <td>0.615960</td>\n",
       "      <td>0.668244</td>\n",
       "      <td>0.762050</td>\n",
       "      <td>0.404962</td>\n",
       "      <td>0.039671</td>\n",
       "      <td>0.351487</td>\n",
       "    </tr>\n",
       "    <tr>\n",
       "      <th>1</th>\n",
       "      <td>0.721948</td>\n",
       "      <td>0.067432</td>\n",
       "      <td>0.099370</td>\n",
       "      <td>0.858578</td>\n",
       "      <td>0.039465</td>\n",
       "      <td>0.878678</td>\n",
       "      <td>0.031146</td>\n",
       "      <td>0.918081</td>\n",
       "      <td>0.129722</td>\n",
       "      <td>0.860189</td>\n",
       "    </tr>\n",
       "    <tr>\n",
       "      <th>2</th>\n",
       "      <td>0.020519</td>\n",
       "      <td>0.154298</td>\n",
       "      <td>0.260385</td>\n",
       "      <td>0.360333</td>\n",
       "      <td>0.874048</td>\n",
       "      <td>0.076606</td>\n",
       "      <td>0.140975</td>\n",
       "      <td>0.594069</td>\n",
       "      <td>0.869786</td>\n",
       "      <td>0.817194</td>\n",
       "    </tr>\n",
       "    <tr>\n",
       "      <th>3</th>\n",
       "      <td>0.685121</td>\n",
       "      <td>0.499988</td>\n",
       "      <td>0.709468</td>\n",
       "      <td>0.766782</td>\n",
       "      <td>0.174866</td>\n",
       "      <td>0.106712</td>\n",
       "      <td>0.273851</td>\n",
       "      <td>0.306307</td>\n",
       "      <td>0.338296</td>\n",
       "      <td>0.426248</td>\n",
       "    </tr>\n",
       "    <tr>\n",
       "      <th>4</th>\n",
       "      <td>0.600760</td>\n",
       "      <td>0.528611</td>\n",
       "      <td>0.332604</td>\n",
       "      <td>0.029081</td>\n",
       "      <td>0.345151</td>\n",
       "      <td>0.481894</td>\n",
       "      <td>0.496768</td>\n",
       "      <td>0.043098</td>\n",
       "      <td>0.883245</td>\n",
       "      <td>0.144900</td>\n",
       "    </tr>\n",
       "  </tbody>\n",
       "</table>\n",
       "</div>"
      ],
      "text/plain": [
       "      col 1     col 2     col 3     col 4     col 5     col 6     col 7  \\\n",
       "0  0.772431  0.085816  0.227356  0.675725  0.615960  0.668244  0.762050   \n",
       "1  0.721948  0.067432  0.099370  0.858578  0.039465  0.878678  0.031146   \n",
       "2  0.020519  0.154298  0.260385  0.360333  0.874048  0.076606  0.140975   \n",
       "3  0.685121  0.499988  0.709468  0.766782  0.174866  0.106712  0.273851   \n",
       "4  0.600760  0.528611  0.332604  0.029081  0.345151  0.481894  0.496768   \n",
       "\n",
       "      col 8     col 9    col 10  \n",
       "0  0.404962  0.039671  0.351487  \n",
       "1  0.918081  0.129722  0.860189  \n",
       "2  0.594069  0.869786  0.817194  \n",
       "3  0.306307  0.338296  0.426248  \n",
       "4  0.043098  0.883245  0.144900  "
      ]
     },
     "execution_count": 5,
     "metadata": {},
     "output_type": "execute_result"
    }
   ],
   "source": [
    "# 5 rows of 10 items\n",
    "dataset = np.random.rand(5,10)\n",
    "\n",
    "#adding the random dataset to a table\n",
    "pd.DataFrame(dataset, columns=[\"col 1\", \"col 2\", \"col 3\",\"col 4\", \"col 5\", \"col 6\", \"col 7\", \"col 8\", \"col 9\", \"col 10\" ])"
   ]
  },
  {
   "cell_type": "code",
   "execution_count": 6,
   "metadata": {},
   "outputs": [
    {
     "data": {
      "text/plain": [
       "array([0.10434164, 0.50887256, 0.35264215, 0.73553953, 0.17527535,\n",
       "       0.25371431, 0.53004093, 0.18485251, 0.96534562, 0.94618457])"
      ]
     },
     "execution_count": 6,
     "metadata": {},
     "output_type": "execute_result"
    }
   ],
   "source": [
    "# Example of a basic array of 10 items\n",
    "x = np.random.rand(10)\n",
    "x"
   ]
  },
  {
   "cell_type": "code",
   "execution_count": 7,
   "metadata": {},
   "outputs": [
    {
     "data": {
      "image/png": "[encoded data removed]",
      "text/plain": [
       "<matplotlib.figure.Figure at 0x1a1336b7f0>"
      ]
     },
     "metadata": {},
     "output_type": "display_data"
    }
   ],
   "source": [
    "plt.hist(x)\n",
    "plt.title(\"Plotting the Random Numbers\")\n",
    "plt.show()"
   ]
  },
  {
   "cell_type": "markdown",
   "metadata": {},
   "source": [
    "<br>\n",
    "### Numpy.random.randint\n",
    "\n",
    "Returns random integers from low (inclusive) to high (exclusive).\n",
    "\n",
    "Challenge 2. Generate 20 numbers between 1 and 5 "
   ]
  },
  {
   "cell_type": "code",
   "execution_count": 7,
   "metadata": {},
   "outputs": [
    {
     "data": {
      "text/plain": [
       "array([3, 4, 2, 4, 2, 1, 3, 1, 1, 2, 2, 3, 1, 1, 2, 2, 1, 1, 1, 3])"
      ]
     },
     "execution_count": 7,
     "metadata": {},
     "output_type": "execute_result"
    }
   ],
   "source": [
    "# Generate 20 numbers between 1 and 5 \n",
    "np.random.randint(1, 5, 20)"
   ]
  },
  {
   "cell_type": "code",
   "execution_count": 8,
   "metadata": {},
   "outputs": [
    {
     "data": {
      "text/plain": [
       "array([0, 2, 3, 0, 3, 3, 1, 3, 1, 3])"
      ]
     },
     "execution_count": 8,
     "metadata": {},
     "output_type": "execute_result"
    }
   ],
   "source": [
    "# can also do it with just the high number \n",
    "np.random.randint(5, size=10)"
   ]
  },
  {
   "cell_type": "markdown",
   "metadata": {
    "collapsed": true
   },
   "source": [
    "<br>\n",
    "### Numpy.random.choice\n",
    "\n",
    "\n",
    "Generates a random sample from a given 1-D array\n"
   ]
  },
  {
   "cell_type": "code",
   "execution_count": 11,
   "metadata": {},
   "outputs": [
    {
     "data": {
      "text/plain": [
       "array([9, 9, 7, 4, 5])"
      ]
     },
     "execution_count": 11,
     "metadata": {},
     "output_type": "execute_result"
    }
   ],
   "source": [
    "# Generate a uniform random sample from np.arange(10) of size 5\n",
    "# np.arange(10) = array([0, 1, 2, 3, 4, 5, 6, 7, 8, 9])\n",
    "\n",
    "np.random.choice(10, 5)"
   ]
  },
  {
   "cell_type": "markdown",
   "metadata": {},
   "source": [
    "<br>\n",
    "<br>\n",
    "\n",
    "# Permutations"
   ]
  },
  {
   "cell_type": "markdown",
   "metadata": {},
   "source": [
    "### Numpy.random.shuffle\n",
    "\n",
    "Shuffles numbers in an array"
   ]
  },
  {
   "cell_type": "code",
   "execution_count": 12,
   "metadata": {},
   "outputs": [
    {
     "data": {
      "text/plain": [
       "array([11,  7,  4,  8, 14, 10,  0,  6, 12,  1,  9,  5,  2, 13,  3])"
      ]
     },
     "execution_count": 12,
     "metadata": {},
     "output_type": "execute_result"
    }
   ],
   "source": [
    "arr = np.arange(15)\n",
    "np.random.shuffle(arr)\n",
    "arr"
   ]
  },
  {
   "cell_type": "markdown",
   "metadata": {},
   "source": [
    "### Numpy.random.permutation\n",
    "\n",
    "Randomly shuffles a sequence, or return a permuted range."
   ]
  },
  {
   "cell_type": "code",
   "execution_count": 16,
   "metadata": {},
   "outputs": [
    {
     "data": {
      "text/plain": [
       "array([0, 1, 3, 7, 6, 2, 5, 4, 8])"
      ]
     },
     "execution_count": 16,
     "metadata": {},
     "output_type": "execute_result"
    }
   ],
   "source": [
    "# basic example  \n",
    "np.random.permutation(9)"
   ]
  },
  {
   "cell_type": "code",
   "execution_count": 19,
   "metadata": {},
   "outputs": [
    {
     "data": {
      "text/plain": [
       "array([ 1, 39, 78,  5,  2])"
      ]
     },
     "execution_count": 19,
     "metadata": {},
     "output_type": "execute_result"
    }
   ],
   "source": [
    "# example reshuffling an array \n",
    "np.random.permutation([1, 78, 39, 2, 5])"
   ]
  },
  {
   "cell_type": "code",
   "execution_count": 23,
   "metadata": {},
   "outputs": [
    {
     "data": {
      "text/plain": [
       "array([[0, 1, 2],\n",
       "       [3, 4, 5],\n",
       "       [6, 7, 8]])"
      ]
     },
     "execution_count": 23,
     "metadata": {},
     "output_type": "execute_result"
    }
   ],
   "source": [
    "# creating an multidimensional array\n",
    "arr = np.arange(9).reshape((3, 3))\n",
    "arr"
   ]
  },
  {
   "cell_type": "code",
   "execution_count": 24,
   "metadata": {},
   "outputs": [
    {
     "data": {
      "text/plain": [
       "array([[3, 4, 5],\n",
       "       [0, 1, 2],\n",
       "       [6, 7, 8]])"
      ]
     },
     "execution_count": 24,
     "metadata": {},
     "output_type": "execute_result"
    }
   ],
   "source": [
    "# example reshuffling a multidimensional array \n",
    "np.random.permutation(arr)"
   ]
  },
  {
   "cell_type": "markdown",
   "metadata": {},
   "source": [
    "# References\n",
    "Python for Data Analysis: Data Wrangling with Pandas, NumPy, and IPython - Book by Wes McKinney\n",
    "\n",
    "Python Random Number Generator: the Random Module || Python Tutorial\n",
    "https://www.youtube.com/watch?v=zWL3z7NMqAs\n",
    "\n",
    "https://docs.scipy.org/doc/numpy-1.15.1/reference/routines.random.html\n"
   ]
  }
 ],
 "metadata": {
  "kernelspec": {
   "display_name": "Python 3",
   "language": "python",
   "name": "python3"
  },
  "language_info": {
   "codemirror_mode": {
    "name": "ipython",
    "version": 3
   },
   "file_extension": ".py",
   "mimetype": "text/x-python",
   "name": "python",
   "nbconvert_exporter": "python",
   "pygments_lexer": "ipython3",
   "version": "3.6.3"
  }
 },
 "nbformat": 4,
 "nbformat_minor": 2
}

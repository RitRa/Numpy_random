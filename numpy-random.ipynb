{
 "cells": [
  {
   "cell_type": "markdown",
   "metadata": {},
   "source": [
    "# The numpy.random package"
   ]
  },
  {
   "cell_type": "markdown",
   "metadata": {},
   "source": [
    "An investigation in the functions of the numpy.random package in Python."
   ]
  },
  {
   "cell_type": "markdown",
   "metadata": {},
   "source": [
    "### 1. Overall purpose of the package"
   ]
  },
  {
   "cell_type": "markdown",
   "metadata": {},
   "source": [
    "The NumPy library is the core library for scientific computing in\n",
    "Python. It provides a high-performance multidimensional array\n",
    "object, and tools for working with these arrays. Library documentation: http://www.numpy.org/\n",
    "\n",
    "The numpy.random module supplements the built-in Python random with functions\n",
    "for efficiently generating whole arrays of sample values from many kinds of probability\n",
    "distributions. Documentation https://docs.scipy.org/doc/numpy-1.15.1/reference/routines.random.html"
   ]
  },
  {
   "cell_type": "code",
   "execution_count": 1,
   "metadata": {
    "collapsed": true
   },
   "outputs": [],
   "source": [
    "#import packages\n",
    "import numpy as np\n",
    "import pandas as pd\n",
    "import matplotlib.pyplot as plt\n",
    "import seaborn as sns"
   ]
  },
  {
   "cell_type": "markdown",
   "metadata": {},
   "source": [
    "### 2. Explain the use of the “Simple random data” and “Permutations” functions.\n",
    "\n",
    "### Simple Random Data\n",
    "Using np.random functions to generate simple data\n",
    "\n",
    "Some functions we will be looking into:"
   ]
  },
  {
   "cell_type": "code",
   "execution_count": 2,
   "metadata": {},
   "outputs": [
    {
     "data": {
      "text/html": [
       "<div>\n",
       "<style scoped>\n",
       "    .dataframe tbody tr th:only-of-type {\n",
       "        vertical-align: middle;\n",
       "    }\n",
       "\n",
       "    .dataframe tbody tr th {\n",
       "        vertical-align: top;\n",
       "    }\n",
       "\n",
       "    .dataframe thead th {\n",
       "        text-align: right;\n",
       "    }\n",
       "</style>\n",
       "<table border=\"1\" class=\"dataframe\">\n",
       "  <thead>\n",
       "    <tr style=\"text-align: right;\">\n",
       "      <th></th>\n",
       "      <th>Simple random data</th>\n",
       "      <th>Description</th>\n",
       "    </tr>\n",
       "  </thead>\n",
       "  <tbody>\n",
       "    <tr>\n",
       "      <th>0</th>\n",
       "      <td>Numpy.random.rand</td>\n",
       "      <td>Generates random values of given shape</td>\n",
       "    </tr>\n",
       "    <tr>\n",
       "      <th>1</th>\n",
       "      <td>Numpy.random.randint</td>\n",
       "      <td>Returns random integers from low (inclusive) t...</td>\n",
       "    </tr>\n",
       "    <tr>\n",
       "      <th>2</th>\n",
       "      <td>Numpy.random.choice</td>\n",
       "      <td>Generates a random sample from a given 1-D array</td>\n",
       "    </tr>\n",
       "  </tbody>\n",
       "</table>\n",
       "</div>"
      ],
      "text/plain": [
       "     Simple random data                                        Description\n",
       "0     Numpy.random.rand             Generates random values of given shape\n",
       "1  Numpy.random.randint  Returns random integers from low (inclusive) t...\n",
       "2  Numpy.random.choice    Generates a random sample from a given 1-D array"
      ]
     },
     "execution_count": 2,
     "metadata": {},
     "output_type": "execute_result"
    }
   ],
   "source": [
    "data = [['Numpy.random.rand', 'Generates random values of given shape'], \n",
    "        ['Numpy.random.randint' , 'Returns random integers from low (inclusive) to high (exclusive).'],\n",
    "       ['Numpy.random.choice ','Generates a random sample from a given 1-D array']]\n",
    "pd.DataFrame(data, columns=[\"Simple random data\", \"Description\"])\n"
   ]
  },
  {
   "cell_type": "markdown",
   "metadata": {},
   "source": [
    "<br>\n",
    "#### Numpy.random.rand\n",
    "\n",
    "Returns random integers from low (inclusive) to high (exclusive).\n",
    "\n",
    "Generate random values of given shape"
   ]
  },
  {
   "cell_type": "code",
   "execution_count": 3,
   "metadata": {},
   "outputs": [
    {
     "data": {
      "text/plain": [
       "array([[0.40717754, 0.10538646, 0.55866117],\n",
       "       [0.84722268, 0.30666155, 0.2842019 ],\n",
       "       [0.1302814 , 0.08984416, 0.50554615],\n",
       "       [0.08741558, 0.95732805, 0.68775623],\n",
       "       [0.74172467, 0.19756133, 0.11825398]])"
      ]
     },
     "execution_count": 3,
     "metadata": {},
     "output_type": "execute_result"
    }
   ],
   "source": [
    "# Challenge 1. Create an array with 5 rows and 3 columns\n",
    "sample = np.random.rand(5, 3)\n",
    "sample"
   ]
  },
  {
   "cell_type": "markdown",
   "metadata": {},
   "source": [
    "Numpy.random.rand can be used to quickly mock up a dataset like below:"
   ]
  },
  {
   "cell_type": "code",
   "execution_count": 4,
   "metadata": {},
   "outputs": [
    {
     "data": {
      "text/html": [
       "<div>\n",
       "<style scoped>\n",
       "    .dataframe tbody tr th:only-of-type {\n",
       "        vertical-align: middle;\n",
       "    }\n",
       "\n",
       "    .dataframe tbody tr th {\n",
       "        vertical-align: top;\n",
       "    }\n",
       "\n",
       "    .dataframe thead th {\n",
       "        text-align: right;\n",
       "    }\n",
       "</style>\n",
       "<table border=\"1\" class=\"dataframe\">\n",
       "  <thead>\n",
       "    <tr style=\"text-align: right;\">\n",
       "      <th></th>\n",
       "      <th>col 1</th>\n",
       "      <th>col 2</th>\n",
       "      <th>col 3</th>\n",
       "      <th>col 4</th>\n",
       "      <th>col 5</th>\n",
       "      <th>col 6</th>\n",
       "      <th>col 7</th>\n",
       "      <th>col 8</th>\n",
       "      <th>col 9</th>\n",
       "      <th>col 10</th>\n",
       "    </tr>\n",
       "  </thead>\n",
       "  <tbody>\n",
       "    <tr>\n",
       "      <th>0</th>\n",
       "      <td>0.719410</td>\n",
       "      <td>0.008664</td>\n",
       "      <td>0.345994</td>\n",
       "      <td>0.139753</td>\n",
       "      <td>0.965325</td>\n",
       "      <td>0.255049</td>\n",
       "      <td>0.519977</td>\n",
       "      <td>0.217171</td>\n",
       "      <td>0.634535</td>\n",
       "      <td>0.333899</td>\n",
       "    </tr>\n",
       "    <tr>\n",
       "      <th>1</th>\n",
       "      <td>0.764809</td>\n",
       "      <td>0.782730</td>\n",
       "      <td>0.933539</td>\n",
       "      <td>0.130826</td>\n",
       "      <td>0.780660</td>\n",
       "      <td>0.681005</td>\n",
       "      <td>0.410585</td>\n",
       "      <td>0.595746</td>\n",
       "      <td>0.384402</td>\n",
       "      <td>0.076960</td>\n",
       "    </tr>\n",
       "    <tr>\n",
       "      <th>2</th>\n",
       "      <td>0.521831</td>\n",
       "      <td>0.195926</td>\n",
       "      <td>0.769724</td>\n",
       "      <td>0.446550</td>\n",
       "      <td>0.253247</td>\n",
       "      <td>0.790019</td>\n",
       "      <td>0.984451</td>\n",
       "      <td>0.550673</td>\n",
       "      <td>0.963355</td>\n",
       "      <td>0.226243</td>\n",
       "    </tr>\n",
       "    <tr>\n",
       "      <th>3</th>\n",
       "      <td>0.930968</td>\n",
       "      <td>0.522451</td>\n",
       "      <td>0.690133</td>\n",
       "      <td>0.377911</td>\n",
       "      <td>0.445532</td>\n",
       "      <td>0.302848</td>\n",
       "      <td>0.105687</td>\n",
       "      <td>0.395553</td>\n",
       "      <td>0.987613</td>\n",
       "      <td>0.957325</td>\n",
       "    </tr>\n",
       "    <tr>\n",
       "      <th>4</th>\n",
       "      <td>0.820557</td>\n",
       "      <td>0.736580</td>\n",
       "      <td>0.531017</td>\n",
       "      <td>0.258095</td>\n",
       "      <td>0.070679</td>\n",
       "      <td>0.224579</td>\n",
       "      <td>0.062612</td>\n",
       "      <td>0.660471</td>\n",
       "      <td>0.750219</td>\n",
       "      <td>0.846354</td>\n",
       "    </tr>\n",
       "  </tbody>\n",
       "</table>\n",
       "</div>"
      ],
      "text/plain": [
       "      col 1     col 2     col 3     col 4     col 5     col 6     col 7  \\\n",
       "0  0.719410  0.008664  0.345994  0.139753  0.965325  0.255049  0.519977   \n",
       "1  0.764809  0.782730  0.933539  0.130826  0.780660  0.681005  0.410585   \n",
       "2  0.521831  0.195926  0.769724  0.446550  0.253247  0.790019  0.984451   \n",
       "3  0.930968  0.522451  0.690133  0.377911  0.445532  0.302848  0.105687   \n",
       "4  0.820557  0.736580  0.531017  0.258095  0.070679  0.224579  0.062612   \n",
       "\n",
       "      col 8     col 9    col 10  \n",
       "0  0.217171  0.634535  0.333899  \n",
       "1  0.595746  0.384402  0.076960  \n",
       "2  0.550673  0.963355  0.226243  \n",
       "3  0.395553  0.987613  0.957325  \n",
       "4  0.660471  0.750219  0.846354  "
      ]
     },
     "execution_count": 4,
     "metadata": {},
     "output_type": "execute_result"
    }
   ],
   "source": [
    "# 5 rows of 10 items\n",
    "dataset = np.random.rand(5,10)\n",
    "\n",
    "#adding the random dataset to a table\n",
    "pd.DataFrame(dataset, columns=[\"col 1\", \"col 2\", \"col 3\",\"col 4\", \"col 5\", \"col 6\", \"col 7\", \"col 8\", \"col 9\", \"col 10\" ])"
   ]
  },
  {
   "cell_type": "code",
   "execution_count": 5,
   "metadata": {},
   "outputs": [
    {
     "data": {
      "text/plain": [
       "array([0.46674106, 0.16204258, 0.91596948, 0.96631635, 0.23322041,\n",
       "       0.71924408, 0.17377295, 0.3797133 , 0.74563032, 0.70556481])"
      ]
     },
     "execution_count": 5,
     "metadata": {},
     "output_type": "execute_result"
    }
   ],
   "source": [
    "# Example of a basic array of 10 items\n",
    "x = np.random.rand(10)\n",
    "x"
   ]
  },
  {
   "cell_type": "code",
   "execution_count": 6,
   "metadata": {},
   "outputs": [
    {
     "data": {
      "image/png": "[encoded data removed]",
      "text/plain": [
       "<matplotlib.figure.Figure at 0x1a1391fef0>"
      ]
     },
     "metadata": {},
     "output_type": "display_data"
    }
   ],
   "source": [
    "plt.hist(x)\n",
    "plt.title(\"Plotting the Random Numbers\")\n",
    "plt.show()"
   ]
  },
  {
   "cell_type": "markdown",
   "metadata": {},
   "source": [
    "<br>\n",
    "#### Numpy.random.randint\n",
    "\n",
    "Returns random integers from low (inclusive) to high (exclusive).\n",
    "\n",
    "Challenge 2. Generate 20 numbers between 1 and 5 "
   ]
  },
  {
   "cell_type": "code",
   "execution_count": 7,
   "metadata": {},
   "outputs": [
    {
     "data": {
      "text/plain": [
       "array([3, 3, 3, 1, 4, 1, 1, 2, 3, 2, 3, 1, 4, 3, 3, 2, 3, 2, 3, 1])"
      ]
     },
     "execution_count": 7,
     "metadata": {},
     "output_type": "execute_result"
    }
   ],
   "source": [
    "# Generate 20 numbers between 1 and 5 \n",
    "np.random.randint(1, 5, 20)"
   ]
  },
  {
   "cell_type": "code",
   "execution_count": 8,
   "metadata": {},
   "outputs": [
    {
     "data": {
      "text/plain": [
       "array([0, 1, 2, 0, 2, 1, 4, 0, 1, 3])"
      ]
     },
     "execution_count": 8,
     "metadata": {},
     "output_type": "execute_result"
    }
   ],
   "source": [
    "# can also do it with just the high number \n",
    "np.random.randint(5, size=10)"
   ]
  },
  {
   "cell_type": "markdown",
   "metadata": {
    "collapsed": true
   },
   "source": [
    "<br>\n",
    "#### Numpy.random.choice\n",
    "\n",
    "\n",
    "Generates a random sample from a given 1-D array\n"
   ]
  },
  {
   "cell_type": "code",
   "execution_count": 11,
   "metadata": {},
   "outputs": [
    {
     "data": {
      "text/plain": [
       "array([8, 0, 8, 5, 3])"
      ]
     },
     "execution_count": 11,
     "metadata": {},
     "output_type": "execute_result"
    }
   ],
   "source": [
    "# Generate a uniform random sample from np.arange(10) of size 5\n",
    "np.random.choice(10, 5)"
   ]
  },
  {
   "cell_type": "markdown",
   "metadata": {},
   "source": [
    "<br>\n",
    "<br>\n",
    "\n",
    "# Permutations"
   ]
  },
  {
   "cell_type": "markdown",
   "metadata": {},
   "source": [
    "#### Numpy.random.shuffle\n",
    "\n",
    "Shuffles numbers in an array"
   ]
  },
  {
   "cell_type": "code",
   "execution_count": 12,
   "metadata": {},
   "outputs": [
    {
     "name": "stdout",
     "output_type": "stream",
     "text": [
      "[ 0  1  2  3  4  5  6  7  8  9 10 11 12 13 14]\n"
     ]
    },
    {
     "data": {
      "text/plain": [
       "array([10, 13, 14,  8, 11,  6,  0,  4,  2,  1,  3,  5,  7, 12,  9])"
      ]
     },
     "execution_count": 12,
     "metadata": {},
     "output_type": "execute_result"
    }
   ],
   "source": [
    "arr = np.arange(15)\n",
    "orginal = arr\n",
    "\n",
    "#orginal \n",
    "print(orginal)\n",
    "\n",
    "#shuffles the numbers\n",
    "np.random.shuffle(arr)\n",
    "arr"
   ]
  },
  {
   "cell_type": "markdown",
   "metadata": {},
   "source": [
    "#### Numpy.random.permutation\n",
    "\n",
    "Randomly shuffles a sequence, or return a permuted range."
   ]
  },
  {
   "cell_type": "code",
   "execution_count": 13,
   "metadata": {},
   "outputs": [
    {
     "name": "stdout",
     "output_type": "stream",
     "text": [
      "Orginal =  [0 8 6 2 3 1 5 4 7]\n",
      "Permuted =  [0 8 5 4 2 6 7 1 3]\n"
     ]
    }
   ],
   "source": [
    "# basic example  \n",
    "orginal = np.random.permutation(9)\n",
    "print(\"Orginal = \", orginal)\n",
    "\n",
    "shuffled = np.random.permutation(orginal)\n",
    "print(\"Permuted = \",shuffled)"
   ]
  },
  {
   "cell_type": "code",
   "execution_count": 14,
   "metadata": {},
   "outputs": [
    {
     "data": {
      "text/plain": [
       "array([ 2, 78,  5,  1, 39])"
      ]
     },
     "execution_count": 14,
     "metadata": {},
     "output_type": "execute_result"
    }
   ],
   "source": [
    "# example reshuffling an array \n",
    "np.random.permutation([1, 78, 39, 2, 5])"
   ]
  },
  {
   "cell_type": "code",
   "execution_count": 15,
   "metadata": {},
   "outputs": [
    {
     "data": {
      "text/plain": [
       "array([[0, 1, 2],\n",
       "       [3, 4, 5],\n",
       "       [6, 7, 8]])"
      ]
     },
     "execution_count": 15,
     "metadata": {},
     "output_type": "execute_result"
    }
   ],
   "source": [
    "# creating an multidimensional array\n",
    "arr = np.arange(9).reshape((3, 3))\n",
    "arr"
   ]
  },
  {
   "cell_type": "code",
   "execution_count": 16,
   "metadata": {},
   "outputs": [
    {
     "data": {
      "text/plain": [
       "array([[3, 4, 5],\n",
       "       [0, 1, 2],\n",
       "       [6, 7, 8]])"
      ]
     },
     "execution_count": 16,
     "metadata": {},
     "output_type": "execute_result"
    }
   ],
   "source": [
    "# example reshuffling a multidimensional array \n",
    "np.random.permutation(arr)"
   ]
  },
  {
   "cell_type": "markdown",
   "metadata": {},
   "source": [
    "# References\n",
    "Python for Data Analysis: Data Wrangling with Pandas, NumPy, and IPython - Book by Wes McKinney\n",
    "\n",
    "Python Random Number Generator: the Random Module || Python Tutorial\n",
    "https://www.youtube.com/watch?v=zWL3z7NMqAs\n",
    "\n",
    "https://docs.scipy.org/doc/numpy-1.15.1/reference/routines.random.html\n"
   ]
  }
 ],
 "metadata": {
  "kernelspec": {
   "display_name": "Python 3",
   "language": "python",
   "name": "python3"
  },
  "language_info": {
   "codemirror_mode": {
    "name": "ipython",
    "version": 3
   },
   "file_extension": ".py",
   "mimetype": "text/x-python",
   "name": "python",
   "nbconvert_exporter": "python",
   "pygments_lexer": "ipython3",
   "version": "3.6.3"
  }
 },
 "nbformat": 4,
 "nbformat_minor": 2
}
